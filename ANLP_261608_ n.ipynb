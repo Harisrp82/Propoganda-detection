{
  "cells": [
    {
      "cell_type": "markdown",
      "source": [
        "# Advanced Natural Language Processing"
      ],
      "metadata": {
        "id": "ubYrDHx8LRS1"
      }
    },
    {
      "cell_type": "markdown",
      "metadata": {
        "id": "GoYC-RBpKp-1"
      },
      "source": [
        "##Importing all the required libraries\n"
      ]
    },
    {
      "cell_type": "code",
      "execution_count": null,
      "metadata": {
        "colab": {
          "base_uri": "https://localhost:8080/"
        },
        "id": "UxXf_n6XlReS",
        "outputId": "75e86e15-181b-458e-f75d-1aeb46352563"
      },
      "outputs": [
        {
          "output_type": "stream",
          "name": "stderr",
          "text": [
            "[nltk_data] Downloading package punkt to /root/nltk_data...\n",
            "[nltk_data]   Package punkt is already up-to-date!\n",
            "[nltk_data] Downloading package genesis to /root/nltk_data...\n",
            "[nltk_data]   Package genesis is already up-to-date!\n",
            "[nltk_data] Downloading package stopwords to /root/nltk_data...\n",
            "[nltk_data]   Package stopwords is already up-to-date!\n",
            "[nltk_data] Downloading package wordnet to /root/nltk_data...\n",
            "[nltk_data]   Package wordnet is already up-to-date!\n"
          ]
        },
        {
          "output_type": "stream",
          "name": "stdout",
          "text": [
            "Requirement already satisfied: contractions in /usr/local/lib/python3.10/dist-packages (0.1.73)\n",
            "Requirement already satisfied: textsearch>=0.0.21 in /usr/local/lib/python3.10/dist-packages (from contractions) (0.0.24)\n",
            "Requirement already satisfied: anyascii in /usr/local/lib/python3.10/dist-packages (from textsearch>=0.0.21->contractions) (0.3.2)\n",
            "Requirement already satisfied: pyahocorasick in /usr/local/lib/python3.10/dist-packages (from textsearch>=0.0.21->contractions) (2.0.0)\n"
          ]
        },
        {
          "output_type": "stream",
          "name": "stderr",
          "text": [
            "[nltk_data] Downloading package averaged_perceptron_tagger to\n",
            "[nltk_data]     /root/nltk_data...\n",
            "[nltk_data]   Package averaged_perceptron_tagger is already up-to-\n",
            "[nltk_data]       date!\n",
            "[nltk_data] Downloading package wordnet to /root/nltk_data...\n",
            "[nltk_data]   Package wordnet is already up-to-date!\n"
          ]
        }
      ],
      "source": [
        "import numpy as np\n",
        "import pandas as pd\n",
        "import string\n",
        "from nltk.corpus import stopwords\n",
        "import nltk\n",
        "nltk.download('punkt')\n",
        "from nltk.tokenize import word_tokenize\n",
        "nltk.download('genesis')\n",
        "nltk.download('stopwords')\n",
        "nltk.download('wordnet')\n",
        "from nltk.corpus import wordnet\n",
        "from nltk.tokenize import word_tokenize\n",
        "from nltk.stem import WordNetLemmatizer\n",
        "from nltk.corpus import stopwords\n",
        "import string\n",
        "import nltk\n",
        "!pip install contractions\n",
        "import contractions\n",
        "from nltk.stem import WordNetLemmatizer\n",
        "from nltk.corpus import genesis\n",
        "# Download necessary NLTK data\n",
        "nltk.download('averaged_perceptron_tagger')\n",
        "nltk.download('wordnet')  # <--- This is the new download\n",
        "import random\n",
        "import re\n",
        "import time\n",
        "import string\n",
        "import matplotlib.pyplot as plt\n",
        "import numpy as np\n",
        "import math\n",
        "import pandas as pd\n",
        "from collections import defaultdict\n",
        "from multiprocessing import Pool\n",
        "from wordcloud import WordCloud\n",
        "import matplotlib.pyplot as plt\n",
        "from sklearn.feature_extraction.text import TfidfVectorizer\n",
        "from sklearn.metrics import confusion_matrix\n",
        "from sklearn.metrics import classification_report\n",
        "from sklearn.linear_model import LogisticRegression\n",
        "from sklearn.metrics import confusion_matrix\n",
        "import seaborn as sns\n",
        "import matplotlib.pyplot as plt\n",
        "from sklearn.ensemble import RandomForestClassifier\n",
        "from sklearn.feature_extraction.text import TfidfVectorizer\n",
        "from sklearn.metrics import classification_report, confusion_matrix\n",
        "from sklearn.model_selection import train_test_split\n",
        "import pandas as pd\n",
        "\n",
        "\n"
      ]
    },
    {
      "cell_type": "code",
      "execution_count": null,
      "metadata": {
        "colab": {
          "base_uri": "https://localhost:8080/"
        },
        "id": "SKcgynKgTYYx",
        "outputId": "5a517f08-6951-4679-9ecf-6824db2af6a8"
      },
      "outputs": [
        {
          "output_type": "stream",
          "name": "stdout",
          "text": [
            "            label                                  tagged_in_context\n",
            "0  not_propaganda         No, <BOS> he <EOS> will not be confirmed. \n",
            "1  not_propaganda  This declassification effort <BOS> won’t make ...\n",
            "2     flag_waving  The Obama administration misled the <BOS> Amer...\n",
            "3  not_propaganda  “It looks like we’re capturing the demise of t...\n",
            "4  not_propaganda           <BOS> Location: Westerville, Ohio <EOS> \n"
          ]
        }
      ],
      "source": [
        "# To read the file\n",
        "df_train = pd.read_csv('propaganda_train.tsv', delimiter='\\t')\n",
        "df2_test = pd.read_csv('propaganda_val.tsv', delimiter='\\t')\n",
        "print(df_train.head())\n"
      ]
    },
    {
      "cell_type": "code",
      "execution_count": null,
      "metadata": {
        "colab": {
          "base_uri": "https://localhost:8080/"
        },
        "id": "jn4P8PXKviml",
        "outputId": "63442149-7b6b-45d9-8360-dab19731a632"
      },
      "outputs": [
        {
          "output_type": "stream",
          "name": "stdout",
          "text": [
            "                       label  \\\n",
            "0             not_propaganda   \n",
            "1  causal_oversimplification   \n",
            "2   appeal_to_fear_prejudice   \n",
            "3             not_propaganda   \n",
            "4                 repetition   \n",
            "\n",
            "                                   tagged_in_context  \n",
            "0  On average, between 300 and 600 infections are...  \n",
            "1  Mostly because <BOS> the country would not las...  \n",
            "2  Lyndon Johnson <BOS> gets Earl Warren and Sen....  \n",
            "3           <BOS> You <EOS> may opt out at anytime.   \n",
            "4  It must be exacted from him directly in order ...  \n"
          ]
        }
      ],
      "source": [
        "print(df2_test.head())"
      ]
    },
    {
      "cell_type": "markdown",
      "metadata": {
        "id": "YeARLH6bK-JI"
      },
      "source": [
        "### Data Pre-Processing"
      ]
    },
    {
      "cell_type": "code",
      "execution_count": null,
      "metadata": {
        "id": "nYmjdNt-__RT"
      },
      "outputs": [],
      "source": [
        "# Create a  copy of the training and test dataframes\n",
        "df = df_train.copy(deep=True)\n",
        "df2 = df2_test.copy(deep=True)"
      ]
    },
    {
      "cell_type": "markdown",
      "metadata": {
        "id": "OxiXToN8CuND"
      },
      "source": []
    },
    {
      "cell_type": "code",
      "execution_count": null,
      "metadata": {
        "colab": {
          "base_uri": "https://localhost:8080/"
        },
        "id": "zdujTEtm7R1r",
        "outputId": "b0de2d82-0db7-4606-adcf-0d9db398c095"
      },
      "outputs": [
        {
          "output_type": "stream",
          "name": "stdout",
          "text": [
            "             label                                  tagged_in_context\n",
            "0   not_propaganda         No, <BOS> he <EOS> will not be confirmed. \n",
            "1   not_propaganda  This declassification effort <BOS> won’t make ...\n",
            "2      flag_waving  The Obama administration misled the <BOS> Amer...\n",
            "3   not_propaganda  “It looks like we’re capturing the demise of t...\n",
            "4   not_propaganda           <BOS> Location: Westerville, Ohio <EOS> \n",
            "5  loaded_language  Hitler <BOS> annihilated <EOS> 400,000 Germans...\n",
            "6   not_propaganda  A federal judge on Monday ordered U.S. immigra...\n",
            "7   not_propaganda  <BOS> Kirstjen Nielsen (@SecNielsen) <EOS> Nov...\n",
            "8            doubt  As noted above, at this point literally every ...\n",
            "9   not_propaganda  Britain doesn't need more hate even just for a...\n"
          ]
        }
      ],
      "source": [
        "# Show the first 10 rows of the copied training data\n",
        "print(df.head(10))"
      ]
    },
    {
      "cell_type": "code",
      "execution_count": null,
      "metadata": {
        "colab": {
          "base_uri": "https://localhost:8080/"
        },
        "id": "EOC_VyCG7Vfa",
        "outputId": "72af5c5a-1dbc-4b98-fd43-b5d72fc43a0c"
      },
      "outputs": [
        {
          "output_type": "stream",
          "name": "stdout",
          "text": [
            "                       label  \\\n",
            "0             not_propaganda   \n",
            "1  causal_oversimplification   \n",
            "2   appeal_to_fear_prejudice   \n",
            "3             not_propaganda   \n",
            "4                 repetition   \n",
            "5      name_calling,labeling   \n",
            "6            loaded_language   \n",
            "7             not_propaganda   \n",
            "8                flag_waving   \n",
            "9                      doubt   \n",
            "\n",
            "                                   tagged_in_context  \n",
            "0  On average, between 300 and 600 infections are...  \n",
            "1  Mostly because <BOS> the country would not las...  \n",
            "2  Lyndon Johnson <BOS> gets Earl Warren and Sen....  \n",
            "3           <BOS> You <EOS> may opt out at anytime.   \n",
            "4  It must be exacted from him directly in order ...  \n",
            "5  Is it any wonder that priests and laity alike ...  \n",
            "6  Health workers have been asked to work with co...  \n",
            "7       The Best of <BOS> Jacob <EOS> G. Hornberger   \n",
            "8  Trump began his remarks by setting out <BOS> I...  \n",
            "9  <BOS> Now, the pope’s reply to my testimony wa...  \n"
          ]
        }
      ],
      "source": [
        "print(df2.head(10))"
      ]
    },
    {
      "cell_type": "code",
      "execution_count": null,
      "metadata": {
        "id": "TVaEHEGpTkHA"
      },
      "outputs": [],
      "source": [
        "def preprocess_text(text):\n",
        "    def part_of_speech(tag):\n",
        "        if tag.startswith('J'):\n",
        "            return wordnet.ADJ\n",
        "        elif tag.startswith('V'):\n",
        "            return wordnet.VERB\n",
        "        elif tag.startswith('N'):\n",
        "            return wordnet.NOUN\n",
        "        elif tag.startswith('R'):\n",
        "            return wordnet.ADV\n",
        "        else:\n",
        "            return wordnet.NOUN\n",
        "\n",
        "    text = [contractions.fix(word) for word in text.split()]\n",
        "    text = ' '.join(map(str, text))\n",
        "\n",
        "    # Tokenization\n",
        "    text = word_tokenize(text)\n",
        "\n",
        "    # Remove extra words\n",
        "    extras = ['BOS','EOS','”','“']\n",
        "    text = [word for word in text if word not in extras]\n",
        "\n",
        "    # Lowercase\n",
        "    text = [word.lower() for word in text]\n",
        "\n",
        "    # Remove punctuation\n",
        "    punctuation = string.punctuation\n",
        "    text = [word for word in text if word not in punctuation]\n",
        "\n",
        "    # Remove stop words\n",
        "    stop_words = set(stopwords.words('english'))\n",
        "    text = [word for word in text if word not in stop_words]\n",
        "\n",
        "    # POS tagging and lemmatization\n",
        "    text = nltk.pos_tag(text)\n",
        "    text = [(word, part_of_speech(pos_tag)) for (word, pos_tag) in text]\n",
        "    lemmatizer = WordNetLemmatizer()\n",
        "    text = [lemmatizer.lemmatize(word, tag) for word, tag in text]\n",
        "\n",
        "    # Join tokens into a string\n",
        "    return ' '.join(text)\n",
        "\n",
        "##reference\n",
        "#Above codes are written by referring this website. https://kaifshaikhhhh.medium.com/easiest-way-to-pre-process-text-for-natural-language-processing-e0f32f338b5a"
      ]
    },
    {
      "cell_type": "code",
      "execution_count": null,
      "metadata": {
        "colab": {
          "base_uri": "https://localhost:8080/"
        },
        "id": "POvRyumN3j1L",
        "outputId": "09a11199-99c9-4c40-b861-6c4199d93a20"
      },
      "outputs": [
        {
          "output_type": "stream",
          "name": "stdout",
          "text": [
            "            label                                  tagged_in_context  \\\n",
            "0  not_propaganda         No, <BOS> he <EOS> will not be confirmed.    \n",
            "1  not_propaganda  This declassification effort <BOS> won’t make ...   \n",
            "2     flag_waving  The Obama administration misled the <BOS> Amer...   \n",
            "3  not_propaganda  “It looks like we’re capturing the demise of t...   \n",
            "4  not_propaganda           <BOS> Location: Westerville, Ohio <EOS>    \n",
            "\n",
            "                                      processed_text  \n",
            "0                                            confirm  \n",
            "1  declassification effort make thing bad preside...  \n",
            "2  obama administration mislead american people c...  \n",
            "3  look like capture demise dark vortex different...  \n",
            "4                          location westerville ohio  \n"
          ]
        }
      ],
      "source": [
        "\n",
        "df['processed_text'] = df['tagged_in_context'].apply(preprocess_text)\n",
        "print(df.head())"
      ]
    },
    {
      "cell_type": "code",
      "execution_count": null,
      "metadata": {
        "colab": {
          "base_uri": "https://localhost:8080/"
        },
        "id": "T_GT2JSU21XC",
        "outputId": "9288d675-8c2f-4bd7-84c1-e2e7ea680bc7"
      },
      "outputs": [
        {
          "output_type": "stream",
          "name": "stdout",
          "text": [
            "                       label  \\\n",
            "0             not_propaganda   \n",
            "1  causal_oversimplification   \n",
            "2   appeal_to_fear_prejudice   \n",
            "3             not_propaganda   \n",
            "4                 repetition   \n",
            "\n",
            "                                   tagged_in_context  \\\n",
            "0  On average, between 300 and 600 infections are...   \n",
            "1  Mostly because <BOS> the country would not las...   \n",
            "2  Lyndon Johnson <BOS> gets Earl Warren and Sen....   \n",
            "3           <BOS> You <EOS> may opt out at anytime.    \n",
            "4  It must be exacted from him directly in order ...   \n",
            "\n",
            "                                      processed_text  \n",
            "0  average 300 600 infection record every year am...  \n",
            "1  mostly country would last long without outside...  \n",
            "2  lyndon johnson get earl warren sen. richard ru...  \n",
            "3                                    may opt anytime  \n",
            "4  must exact directly order vilify humiliate isl...  \n"
          ]
        }
      ],
      "source": [
        "df2['processed_text'] = df2['tagged_in_context'].apply(preprocess_text)\n",
        "print(df2.head())"
      ]
    },
    {
      "cell_type": "code",
      "execution_count": null,
      "metadata": {
        "colab": {
          "base_uri": "https://localhost:8080/",
          "height": 363
        },
        "id": "0VmnfxKLrbKK",
        "outputId": "00c64075-185d-4776-db37-9c4fbc6d7e9c"
      },
      "outputs": [
        {
          "output_type": "execute_result",
          "data": {
            "text/plain": [
              "            label                                  tagged_in_context  \\\n",
              "0  not_propaganda         No, <BOS> he <EOS> will not be confirmed.    \n",
              "1  not_propaganda  This declassification effort <BOS> won’t make ...   \n",
              "2      propaganda  The Obama administration misled the <BOS> Amer...   \n",
              "3  not_propaganda  “It looks like we’re capturing the demise of t...   \n",
              "4  not_propaganda           <BOS> Location: Westerville, Ohio <EOS>    \n",
              "5      propaganda  Hitler <BOS> annihilated <EOS> 400,000 Germans...   \n",
              "6  not_propaganda  A federal judge on Monday ordered U.S. immigra...   \n",
              "7  not_propaganda  <BOS> Kirstjen Nielsen (@SecNielsen) <EOS> Nov...   \n",
              "8      propaganda  As noted above, at this point literally every ...   \n",
              "9  not_propaganda  Britain doesn't need more hate even just for a...   \n",
              "\n",
              "                                      processed_text  \n",
              "0                                            confirm  \n",
              "1  declassification effort make thing bad preside...  \n",
              "2  obama administration mislead american people c...  \n",
              "3  look like capture demise dark vortex different...  \n",
              "4                          location westerville ohio  \n",
              "5  hitler annihilate 400,000 german handicap suff...  \n",
              "6  federal judge monday order you.s immigration o...  \n",
              "7       kirstjen nielsen secnielsen november 19 2018  \n",
              "8  note point literally every piece so-called evi...  \n",
              "9                      britain need hate even day ''  "
            ],
            "text/html": [
              "\n",
              "\n",
              "  <div id=\"df-47a4e906-a482-4713-bf6c-2e9e9a95e2f4\">\n",
              "    <div class=\"colab-df-container\">\n",
              "      <div>\n",
              "<style scoped>\n",
              "    .dataframe tbody tr th:only-of-type {\n",
              "        vertical-align: middle;\n",
              "    }\n",
              "\n",
              "    .dataframe tbody tr th {\n",
              "        vertical-align: top;\n",
              "    }\n",
              "\n",
              "    .dataframe thead th {\n",
              "        text-align: right;\n",
              "    }\n",
              "</style>\n",
              "<table border=\"1\" class=\"dataframe\">\n",
              "  <thead>\n",
              "    <tr style=\"text-align: right;\">\n",
              "      <th></th>\n",
              "      <th>label</th>\n",
              "      <th>tagged_in_context</th>\n",
              "      <th>processed_text</th>\n",
              "    </tr>\n",
              "  </thead>\n",
              "  <tbody>\n",
              "    <tr>\n",
              "      <th>0</th>\n",
              "      <td>not_propaganda</td>\n",
              "      <td>No, &lt;BOS&gt; he &lt;EOS&gt; will not be confirmed.</td>\n",
              "      <td>confirm</td>\n",
              "    </tr>\n",
              "    <tr>\n",
              "      <th>1</th>\n",
              "      <td>not_propaganda</td>\n",
              "      <td>This declassification effort &lt;BOS&gt; won’t make ...</td>\n",
              "      <td>declassification effort make thing bad preside...</td>\n",
              "    </tr>\n",
              "    <tr>\n",
              "      <th>2</th>\n",
              "      <td>propaganda</td>\n",
              "      <td>The Obama administration misled the &lt;BOS&gt; Amer...</td>\n",
              "      <td>obama administration mislead american people c...</td>\n",
              "    </tr>\n",
              "    <tr>\n",
              "      <th>3</th>\n",
              "      <td>not_propaganda</td>\n",
              "      <td>“It looks like we’re capturing the demise of t...</td>\n",
              "      <td>look like capture demise dark vortex different...</td>\n",
              "    </tr>\n",
              "    <tr>\n",
              "      <th>4</th>\n",
              "      <td>not_propaganda</td>\n",
              "      <td>&lt;BOS&gt; Location: Westerville, Ohio &lt;EOS&gt;</td>\n",
              "      <td>location westerville ohio</td>\n",
              "    </tr>\n",
              "    <tr>\n",
              "      <th>5</th>\n",
              "      <td>propaganda</td>\n",
              "      <td>Hitler &lt;BOS&gt; annihilated &lt;EOS&gt; 400,000 Germans...</td>\n",
              "      <td>hitler annihilate 400,000 german handicap suff...</td>\n",
              "    </tr>\n",
              "    <tr>\n",
              "      <th>6</th>\n",
              "      <td>not_propaganda</td>\n",
              "      <td>A federal judge on Monday ordered U.S. immigra...</td>\n",
              "      <td>federal judge monday order you.s immigration o...</td>\n",
              "    </tr>\n",
              "    <tr>\n",
              "      <th>7</th>\n",
              "      <td>not_propaganda</td>\n",
              "      <td>&lt;BOS&gt; Kirstjen Nielsen (@SecNielsen) &lt;EOS&gt; Nov...</td>\n",
              "      <td>kirstjen nielsen secnielsen november 19 2018</td>\n",
              "    </tr>\n",
              "    <tr>\n",
              "      <th>8</th>\n",
              "      <td>propaganda</td>\n",
              "      <td>As noted above, at this point literally every ...</td>\n",
              "      <td>note point literally every piece so-called evi...</td>\n",
              "    </tr>\n",
              "    <tr>\n",
              "      <th>9</th>\n",
              "      <td>not_propaganda</td>\n",
              "      <td>Britain doesn't need more hate even just for a...</td>\n",
              "      <td>britain need hate even day ''</td>\n",
              "    </tr>\n",
              "  </tbody>\n",
              "</table>\n",
              "</div>\n",
              "      <button class=\"colab-df-convert\" onclick=\"convertToInteractive('df-47a4e906-a482-4713-bf6c-2e9e9a95e2f4')\"\n",
              "              title=\"Convert this dataframe to an interactive table.\"\n",
              "              style=\"display:none;\">\n",
              "\n",
              "  <svg xmlns=\"http://www.w3.org/2000/svg\" height=\"24px\"viewBox=\"0 0 24 24\"\n",
              "       width=\"24px\">\n",
              "    <path d=\"M0 0h24v24H0V0z\" fill=\"none\"/>\n",
              "    <path d=\"M18.56 5.44l.94 2.06.94-2.06 2.06-.94-2.06-.94-.94-2.06-.94 2.06-2.06.94zm-11 1L8.5 8.5l.94-2.06 2.06-.94-2.06-.94L8.5 2.5l-.94 2.06-2.06.94zm10 10l.94 2.06.94-2.06 2.06-.94-2.06-.94-.94-2.06-.94 2.06-2.06.94z\"/><path d=\"M17.41 7.96l-1.37-1.37c-.4-.4-.92-.59-1.43-.59-.52 0-1.04.2-1.43.59L10.3 9.45l-7.72 7.72c-.78.78-.78 2.05 0 2.83L4 21.41c.39.39.9.59 1.41.59.51 0 1.02-.2 1.41-.59l7.78-7.78 2.81-2.81c.8-.78.8-2.07 0-2.86zM5.41 20L4 18.59l7.72-7.72 1.47 1.35L5.41 20z\"/>\n",
              "  </svg>\n",
              "      </button>\n",
              "\n",
              "\n",
              "\n",
              "    <div id=\"df-b10dc2d2-6168-4ddd-9fd6-8030f448ac3b\">\n",
              "      <button class=\"colab-df-quickchart\" onclick=\"quickchart('df-b10dc2d2-6168-4ddd-9fd6-8030f448ac3b')\"\n",
              "              title=\"Suggest charts.\"\n",
              "              style=\"display:none;\">\n",
              "\n",
              "<svg xmlns=\"http://www.w3.org/2000/svg\" height=\"24px\"viewBox=\"0 0 24 24\"\n",
              "     width=\"24px\">\n",
              "    <g>\n",
              "        <path d=\"M19 3H5c-1.1 0-2 .9-2 2v14c0 1.1.9 2 2 2h14c1.1 0 2-.9 2-2V5c0-1.1-.9-2-2-2zM9 17H7v-7h2v7zm4 0h-2V7h2v10zm4 0h-2v-4h2v4z\"/>\n",
              "    </g>\n",
              "</svg>\n",
              "      </button>\n",
              "    </div>\n",
              "\n",
              "<style>\n",
              "  .colab-df-quickchart {\n",
              "    background-color: #E8F0FE;\n",
              "    border: none;\n",
              "    border-radius: 50%;\n",
              "    cursor: pointer;\n",
              "    display: none;\n",
              "    fill: #1967D2;\n",
              "    height: 32px;\n",
              "    padding: 0 0 0 0;\n",
              "    width: 32px;\n",
              "  }\n",
              "\n",
              "  .colab-df-quickchart:hover {\n",
              "    background-color: #E2EBFA;\n",
              "    box-shadow: 0px 1px 2px rgba(60, 64, 67, 0.3), 0px 1px 3px 1px rgba(60, 64, 67, 0.15);\n",
              "    fill: #174EA6;\n",
              "  }\n",
              "\n",
              "  [theme=dark] .colab-df-quickchart {\n",
              "    background-color: #3B4455;\n",
              "    fill: #D2E3FC;\n",
              "  }\n",
              "\n",
              "  [theme=dark] .colab-df-quickchart:hover {\n",
              "    background-color: #434B5C;\n",
              "    box-shadow: 0px 1px 3px 1px rgba(0, 0, 0, 0.15);\n",
              "    filter: drop-shadow(0px 1px 2px rgba(0, 0, 0, 0.3));\n",
              "    fill: #FFFFFF;\n",
              "  }\n",
              "</style>\n",
              "\n",
              "    <script>\n",
              "      async function quickchart(key) {\n",
              "        const containerElement = document.querySelector('#' + key);\n",
              "        const charts = await google.colab.kernel.invokeFunction(\n",
              "            'suggestCharts', [key], {});\n",
              "      }\n",
              "    </script>\n",
              "\n",
              "      <script>\n",
              "\n",
              "function displayQuickchartButton(domScope) {\n",
              "  let quickchartButtonEl =\n",
              "    domScope.querySelector('#df-b10dc2d2-6168-4ddd-9fd6-8030f448ac3b button.colab-df-quickchart');\n",
              "  quickchartButtonEl.style.display =\n",
              "    google.colab.kernel.accessAllowed ? 'block' : 'none';\n",
              "}\n",
              "\n",
              "        displayQuickchartButton(document);\n",
              "      </script>\n",
              "      <style>\n",
              "    .colab-df-container {\n",
              "      display:flex;\n",
              "      flex-wrap:wrap;\n",
              "      gap: 12px;\n",
              "    }\n",
              "\n",
              "    .colab-df-convert {\n",
              "      background-color: #E8F0FE;\n",
              "      border: none;\n",
              "      border-radius: 50%;\n",
              "      cursor: pointer;\n",
              "      display: none;\n",
              "      fill: #1967D2;\n",
              "      height: 32px;\n",
              "      padding: 0 0 0 0;\n",
              "      width: 32px;\n",
              "    }\n",
              "\n",
              "    .colab-df-convert:hover {\n",
              "      background-color: #E2EBFA;\n",
              "      box-shadow: 0px 1px 2px rgba(60, 64, 67, 0.3), 0px 1px 3px 1px rgba(60, 64, 67, 0.15);\n",
              "      fill: #174EA6;\n",
              "    }\n",
              "\n",
              "    [theme=dark] .colab-df-convert {\n",
              "      background-color: #3B4455;\n",
              "      fill: #D2E3FC;\n",
              "    }\n",
              "\n",
              "    [theme=dark] .colab-df-convert:hover {\n",
              "      background-color: #434B5C;\n",
              "      box-shadow: 0px 1px 3px 1px rgba(0, 0, 0, 0.15);\n",
              "      filter: drop-shadow(0px 1px 2px rgba(0, 0, 0, 0.3));\n",
              "      fill: #FFFFFF;\n",
              "    }\n",
              "  </style>\n",
              "\n",
              "      <script>\n",
              "        const buttonEl =\n",
              "          document.querySelector('#df-47a4e906-a482-4713-bf6c-2e9e9a95e2f4 button.colab-df-convert');\n",
              "        buttonEl.style.display =\n",
              "          google.colab.kernel.accessAllowed ? 'block' : 'none';\n",
              "\n",
              "        async function convertToInteractive(key) {\n",
              "          const element = document.querySelector('#df-47a4e906-a482-4713-bf6c-2e9e9a95e2f4');\n",
              "          const dataTable =\n",
              "            await google.colab.kernel.invokeFunction('convertToInteractive',\n",
              "                                                     [key], {});\n",
              "          if (!dataTable) return;\n",
              "\n",
              "          const docLinkHtml = 'Like what you see? Visit the ' +\n",
              "            '<a target=\"_blank\" href=https://colab.research.google.com/notebooks/data_table.ipynb>data table notebook</a>'\n",
              "            + ' to learn more about interactive tables.';\n",
              "          element.innerHTML = '';\n",
              "          dataTable['output_type'] = 'display_data';\n",
              "          await google.colab.output.renderOutput(dataTable, element);\n",
              "          const docLink = document.createElement('div');\n",
              "          docLink.innerHTML = docLinkHtml;\n",
              "          element.appendChild(docLink);\n",
              "        }\n",
              "      </script>\n",
              "    </div>\n",
              "  </div>\n"
            ]
          },
          "metadata": {},
          "execution_count": 10
        }
      ],
      "source": [
        "#I am categorizing all data into two groups: 'propaganda' and 'not_propaganda'\n",
        "def rename_labels(label):\n",
        "    if label != 'not_propaganda':\n",
        "        return 'propaganda'\n",
        "    else:\n",
        "        return label\n",
        "#applying on train data\n",
        "df['label'] = df['label'].apply(rename_labels)\n",
        "df.head(10)"
      ]
    },
    {
      "cell_type": "code",
      "execution_count": null,
      "metadata": {
        "colab": {
          "base_uri": "https://localhost:8080/",
          "height": 206
        },
        "id": "QwqDcDe4zmxZ",
        "outputId": "e28f3a15-bfea-4bf3-f0fa-3a77efe34706"
      },
      "outputs": [
        {
          "output_type": "execute_result",
          "data": {
            "text/plain": [
              "            label                                  tagged_in_context  \\\n",
              "0  not_propaganda  On average, between 300 and 600 infections are...   \n",
              "1      propaganda  Mostly because <BOS> the country would not las...   \n",
              "2      propaganda  Lyndon Johnson <BOS> gets Earl Warren and Sen....   \n",
              "3  not_propaganda           <BOS> You <EOS> may opt out at anytime.    \n",
              "4      propaganda  It must be exacted from him directly in order ...   \n",
              "\n",
              "                                      processed_text  \n",
              "0  average 300 600 infection record every year am...  \n",
              "1  mostly country would last long without outside...  \n",
              "2  lyndon johnson get earl warren sen. richard ru...  \n",
              "3                                    may opt anytime  \n",
              "4  must exact directly order vilify humiliate isl...  "
            ],
            "text/html": [
              "\n",
              "\n",
              "  <div id=\"df-08ffa050-5f3d-43e3-b761-b4d1acdc0bfb\">\n",
              "    <div class=\"colab-df-container\">\n",
              "      <div>\n",
              "<style scoped>\n",
              "    .dataframe tbody tr th:only-of-type {\n",
              "        vertical-align: middle;\n",
              "    }\n",
              "\n",
              "    .dataframe tbody tr th {\n",
              "        vertical-align: top;\n",
              "    }\n",
              "\n",
              "    .dataframe thead th {\n",
              "        text-align: right;\n",
              "    }\n",
              "</style>\n",
              "<table border=\"1\" class=\"dataframe\">\n",
              "  <thead>\n",
              "    <tr style=\"text-align: right;\">\n",
              "      <th></th>\n",
              "      <th>label</th>\n",
              "      <th>tagged_in_context</th>\n",
              "      <th>processed_text</th>\n",
              "    </tr>\n",
              "  </thead>\n",
              "  <tbody>\n",
              "    <tr>\n",
              "      <th>0</th>\n",
              "      <td>not_propaganda</td>\n",
              "      <td>On average, between 300 and 600 infections are...</td>\n",
              "      <td>average 300 600 infection record every year am...</td>\n",
              "    </tr>\n",
              "    <tr>\n",
              "      <th>1</th>\n",
              "      <td>propaganda</td>\n",
              "      <td>Mostly because &lt;BOS&gt; the country would not las...</td>\n",
              "      <td>mostly country would last long without outside...</td>\n",
              "    </tr>\n",
              "    <tr>\n",
              "      <th>2</th>\n",
              "      <td>propaganda</td>\n",
              "      <td>Lyndon Johnson &lt;BOS&gt; gets Earl Warren and Sen....</td>\n",
              "      <td>lyndon johnson get earl warren sen. richard ru...</td>\n",
              "    </tr>\n",
              "    <tr>\n",
              "      <th>3</th>\n",
              "      <td>not_propaganda</td>\n",
              "      <td>&lt;BOS&gt; You &lt;EOS&gt; may opt out at anytime.</td>\n",
              "      <td>may opt anytime</td>\n",
              "    </tr>\n",
              "    <tr>\n",
              "      <th>4</th>\n",
              "      <td>propaganda</td>\n",
              "      <td>It must be exacted from him directly in order ...</td>\n",
              "      <td>must exact directly order vilify humiliate isl...</td>\n",
              "    </tr>\n",
              "  </tbody>\n",
              "</table>\n",
              "</div>\n",
              "      <button class=\"colab-df-convert\" onclick=\"convertToInteractive('df-08ffa050-5f3d-43e3-b761-b4d1acdc0bfb')\"\n",
              "              title=\"Convert this dataframe to an interactive table.\"\n",
              "              style=\"display:none;\">\n",
              "\n",
              "  <svg xmlns=\"http://www.w3.org/2000/svg\" height=\"24px\"viewBox=\"0 0 24 24\"\n",
              "       width=\"24px\">\n",
              "    <path d=\"M0 0h24v24H0V0z\" fill=\"none\"/>\n",
              "    <path d=\"M18.56 5.44l.94 2.06.94-2.06 2.06-.94-2.06-.94-.94-2.06-.94 2.06-2.06.94zm-11 1L8.5 8.5l.94-2.06 2.06-.94-2.06-.94L8.5 2.5l-.94 2.06-2.06.94zm10 10l.94 2.06.94-2.06 2.06-.94-2.06-.94-.94-2.06-.94 2.06-2.06.94z\"/><path d=\"M17.41 7.96l-1.37-1.37c-.4-.4-.92-.59-1.43-.59-.52 0-1.04.2-1.43.59L10.3 9.45l-7.72 7.72c-.78.78-.78 2.05 0 2.83L4 21.41c.39.39.9.59 1.41.59.51 0 1.02-.2 1.41-.59l7.78-7.78 2.81-2.81c.8-.78.8-2.07 0-2.86zM5.41 20L4 18.59l7.72-7.72 1.47 1.35L5.41 20z\"/>\n",
              "  </svg>\n",
              "      </button>\n",
              "\n",
              "\n",
              "\n",
              "    <div id=\"df-25ae80d9-6681-4a14-93b8-ac76853963b8\">\n",
              "      <button class=\"colab-df-quickchart\" onclick=\"quickchart('df-25ae80d9-6681-4a14-93b8-ac76853963b8')\"\n",
              "              title=\"Suggest charts.\"\n",
              "              style=\"display:none;\">\n",
              "\n",
              "<svg xmlns=\"http://www.w3.org/2000/svg\" height=\"24px\"viewBox=\"0 0 24 24\"\n",
              "     width=\"24px\">\n",
              "    <g>\n",
              "        <path d=\"M19 3H5c-1.1 0-2 .9-2 2v14c0 1.1.9 2 2 2h14c1.1 0 2-.9 2-2V5c0-1.1-.9-2-2-2zM9 17H7v-7h2v7zm4 0h-2V7h2v10zm4 0h-2v-4h2v4z\"/>\n",
              "    </g>\n",
              "</svg>\n",
              "      </button>\n",
              "    </div>\n",
              "\n",
              "<style>\n",
              "  .colab-df-quickchart {\n",
              "    background-color: #E8F0FE;\n",
              "    border: none;\n",
              "    border-radius: 50%;\n",
              "    cursor: pointer;\n",
              "    display: none;\n",
              "    fill: #1967D2;\n",
              "    height: 32px;\n",
              "    padding: 0 0 0 0;\n",
              "    width: 32px;\n",
              "  }\n",
              "\n",
              "  .colab-df-quickchart:hover {\n",
              "    background-color: #E2EBFA;\n",
              "    box-shadow: 0px 1px 2px rgba(60, 64, 67, 0.3), 0px 1px 3px 1px rgba(60, 64, 67, 0.15);\n",
              "    fill: #174EA6;\n",
              "  }\n",
              "\n",
              "  [theme=dark] .colab-df-quickchart {\n",
              "    background-color: #3B4455;\n",
              "    fill: #D2E3FC;\n",
              "  }\n",
              "\n",
              "  [theme=dark] .colab-df-quickchart:hover {\n",
              "    background-color: #434B5C;\n",
              "    box-shadow: 0px 1px 3px 1px rgba(0, 0, 0, 0.15);\n",
              "    filter: drop-shadow(0px 1px 2px rgba(0, 0, 0, 0.3));\n",
              "    fill: #FFFFFF;\n",
              "  }\n",
              "</style>\n",
              "\n",
              "    <script>\n",
              "      async function quickchart(key) {\n",
              "        const containerElement = document.querySelector('#' + key);\n",
              "        const charts = await google.colab.kernel.invokeFunction(\n",
              "            'suggestCharts', [key], {});\n",
              "      }\n",
              "    </script>\n",
              "\n",
              "      <script>\n",
              "\n",
              "function displayQuickchartButton(domScope) {\n",
              "  let quickchartButtonEl =\n",
              "    domScope.querySelector('#df-25ae80d9-6681-4a14-93b8-ac76853963b8 button.colab-df-quickchart');\n",
              "  quickchartButtonEl.style.display =\n",
              "    google.colab.kernel.accessAllowed ? 'block' : 'none';\n",
              "}\n",
              "\n",
              "        displayQuickchartButton(document);\n",
              "      </script>\n",
              "      <style>\n",
              "    .colab-df-container {\n",
              "      display:flex;\n",
              "      flex-wrap:wrap;\n",
              "      gap: 12px;\n",
              "    }\n",
              "\n",
              "    .colab-df-convert {\n",
              "      background-color: #E8F0FE;\n",
              "      border: none;\n",
              "      border-radius: 50%;\n",
              "      cursor: pointer;\n",
              "      display: none;\n",
              "      fill: #1967D2;\n",
              "      height: 32px;\n",
              "      padding: 0 0 0 0;\n",
              "      width: 32px;\n",
              "    }\n",
              "\n",
              "    .colab-df-convert:hover {\n",
              "      background-color: #E2EBFA;\n",
              "      box-shadow: 0px 1px 2px rgba(60, 64, 67, 0.3), 0px 1px 3px 1px rgba(60, 64, 67, 0.15);\n",
              "      fill: #174EA6;\n",
              "    }\n",
              "\n",
              "    [theme=dark] .colab-df-convert {\n",
              "      background-color: #3B4455;\n",
              "      fill: #D2E3FC;\n",
              "    }\n",
              "\n",
              "    [theme=dark] .colab-df-convert:hover {\n",
              "      background-color: #434B5C;\n",
              "      box-shadow: 0px 1px 3px 1px rgba(0, 0, 0, 0.15);\n",
              "      filter: drop-shadow(0px 1px 2px rgba(0, 0, 0, 0.3));\n",
              "      fill: #FFFFFF;\n",
              "    }\n",
              "  </style>\n",
              "\n",
              "      <script>\n",
              "        const buttonEl =\n",
              "          document.querySelector('#df-08ffa050-5f3d-43e3-b761-b4d1acdc0bfb button.colab-df-convert');\n",
              "        buttonEl.style.display =\n",
              "          google.colab.kernel.accessAllowed ? 'block' : 'none';\n",
              "\n",
              "        async function convertToInteractive(key) {\n",
              "          const element = document.querySelector('#df-08ffa050-5f3d-43e3-b761-b4d1acdc0bfb');\n",
              "          const dataTable =\n",
              "            await google.colab.kernel.invokeFunction('convertToInteractive',\n",
              "                                                     [key], {});\n",
              "          if (!dataTable) return;\n",
              "\n",
              "          const docLinkHtml = 'Like what you see? Visit the ' +\n",
              "            '<a target=\"_blank\" href=https://colab.research.google.com/notebooks/data_table.ipynb>data table notebook</a>'\n",
              "            + ' to learn more about interactive tables.';\n",
              "          element.innerHTML = '';\n",
              "          dataTable['output_type'] = 'display_data';\n",
              "          await google.colab.output.renderOutput(dataTable, element);\n",
              "          const docLink = document.createElement('div');\n",
              "          docLink.innerHTML = docLinkHtml;\n",
              "          element.appendChild(docLink);\n",
              "        }\n",
              "      </script>\n",
              "    </div>\n",
              "  </div>\n"
            ]
          },
          "metadata": {},
          "execution_count": 11
        }
      ],
      "source": [
        "#applying it on test data\n",
        "df2['label'] = df2['label'].apply(rename_labels)\n",
        "df2.head()"
      ]
    },
    {
      "cell_type": "code",
      "execution_count": null,
      "metadata": {
        "colab": {
          "base_uri": "https://localhost:8080/"
        },
        "id": "yMxvG7FZvukv",
        "outputId": "a59dbab3-c061-46a1-b319-51d437bbf625"
      },
      "outputs": [
        {
          "output_type": "stream",
          "name": "stdout",
          "text": [
            "['not_propaganda' 'propaganda']\n"
          ]
        }
      ],
      "source": [
        "print(df['label'].unique())"
      ]
    },
    {
      "cell_type": "code",
      "execution_count": null,
      "metadata": {
        "colab": {
          "base_uri": "https://localhost:8080/"
        },
        "id": "sbHpLkph6qp4",
        "outputId": "a717c68c-76ea-4602-f23d-d9bd988f262e"
      },
      "outputs": [
        {
          "output_type": "stream",
          "name": "stdout",
          "text": [
            "Size of training data: 2414\n",
            "Size of testing data: 580\n"
          ]
        }
      ],
      "source": [
        "# Print size of the training data\n",
        "print(f\"Size of training data: {len(df_train)}\")\n",
        "print(f\"Size of testing data: {len(df2_test)}\")"
      ]
    },
    {
      "cell_type": "code",
      "execution_count": null,
      "metadata": {
        "colab": {
          "base_uri": "https://localhost:8080/"
        },
        "id": "DnfZiEwHefMt",
        "outputId": "6d394e3a-d3c7-445f-9f96-2045507c5872"
      },
      "outputs": [
        {
          "output_type": "stream",
          "name": "stdout",
          "text": [
            "Training data proportion: 81%\n",
            "Testing data proportion: 19%\n"
          ]
        }
      ],
      "source": [
        "# Compute the proportions of the training and testing data\n",
        "train_data_proportion = len(df_train) / (len(df_train) + len(df2_test)) * 100\n",
        "test_data_proportion = len(df2_test) / (len(df_train) + len(df2_test)) * 100\n",
        "\n",
        "# Print the proportions\n",
        "print(f'Training data proportion: {round(train_data_proportion)}%')\n",
        "print(f'Testing data proportion: {round(test_data_proportion)}%')\n"
      ]
    },
    {
      "cell_type": "markdown",
      "metadata": {
        "id": "RS7mh-A--0_w"
      },
      "source": [
        "Our dataset is split such that approximately 80% of the data is used for training and 20% is used for testing."
      ]
    },
    {
      "cell_type": "markdown",
      "metadata": {
        "id": "bQ02hnMwjgAu"
      },
      "source": [
        "## Task-1"
      ]
    },
    {
      "cell_type": "markdown",
      "metadata": {
        "id": "CrkTNRnzBnyY"
      },
      "source": [
        "In Task 1, we will explore and evaluate atleast two methods to identify wheahter a statement contains propoganda. Approach 1 will involve text probability based on n-gram models, while Approach 2 will focus on classification using uncontextualised word embedding methods, such as word2vec."
      ]
    },
    {
      "cell_type": "markdown",
      "metadata": {
        "id": "FDiqPavCCHpV"
      },
      "source": [
        "###Approach 1 : Multinomial Naive Bayes Classifier(unigrams,bigrams and trigrams)"
      ]
    },
    {
      "cell_type": "code",
      "execution_count": null,
      "metadata": {
        "id": "Wud7vUEzL5NG"
      },
      "outputs": [],
      "source": [
        "from sklearn.feature_extraction.text import TfidfVectorizer\n",
        "from sklearn.naive_bayes import MultinomialNB\n",
        "from sklearn.metrics import classification_report, accuracy_score\n",
        "from sklearn.feature_extraction.text import TfidfVectorizer\n",
        "from sklearn.naive_bayes import MultinomialNB\n",
        "from sklearn.metrics import classification_report, accuracy_score\n",
        "import matplotlib.pyplot as plt\n",
        "\n"
      ]
    },
    {
      "cell_type": "code",
      "execution_count": null,
      "metadata": {
        "colab": {
          "base_uri": "https://localhost:8080/"
        },
        "id": "JH3J4uTGNrII",
        "outputId": "d739a373-6b54-43de-f699-e1f65b9dcee6"
      },
      "outputs": [
        {
          "output_type": "stream",
          "name": "stdout",
          "text": [
            "Accuracy: 0.6741379310344827\n",
            "Multinomial Naive Bayes Classifier Report:\n",
            "                precision    recall  f1-score   support\n",
            "\n",
            "not_propaganda       0.80      0.50      0.61       301\n",
            "    propaganda       0.61      0.86      0.72       279\n",
            "\n",
            "      accuracy                           0.67       580\n",
            "     macro avg       0.71      0.68      0.67       580\n",
            "  weighted avg       0.71      0.67      0.66       580\n",
            "\n"
          ]
        }
      ],
      "source": [
        "# Define the TfidfVectorizer with desired parameters\n",
        "vectorizer = TfidfVectorizer(ngram_range=(1, 3))\n",
        "\n",
        "# Transform the training data\n",
        "X_train = vectorizer.fit_transform(df['processed_text'])\n",
        "\n",
        "# Transform the testing data\n",
        "X_test = vectorizer.transform(df2['processed_text'])\n",
        "\n",
        "# Create and train the Multinomial Naive Bayes model\n",
        "model = MultinomialNB()\n",
        "model.fit(X_train, df['label'])\n",
        "\n",
        "# Make predictions\n",
        "predictions = model.predict(X_test)\n",
        "\n",
        "# Compute accuracy\n",
        "accuracy = accuracy_score(df2['label'], predictions)\n",
        "print(f'Accuracy: {accuracy}')\n",
        "\n",
        "# Generate and print the classification report\n",
        "report = classification_report(df2['label'], predictions)\n",
        "print(f'Multinomial Naive Bayes Classifier Report:\\n{report}')"
      ]
    },
    {
      "cell_type": "code",
      "execution_count": null,
      "metadata": {
        "colab": {
          "base_uri": "https://localhost:8080/"
        },
        "id": "qMbmeTkwSk76",
        "outputId": "7e5eeb5e-670d-4b13-fb7e-1c1556d41aec"
      },
      "outputs": [
        {
          "output_type": "stream",
          "name": "stdout",
          "text": [
            "Accuracy with alpha=0.1 and ngram_range=(1, 1): 0.6706896551724137\n",
            "Accuracy with alpha=0.1 and ngram_range=(1, 2): 0.6706896551724137\n",
            "Accuracy with alpha=0.1 and ngram_range=(1, 3): 0.6689655172413793\n",
            "Accuracy with alpha=0.5 and ngram_range=(1, 1): 0.6775862068965517\n",
            "Accuracy with alpha=0.5 and ngram_range=(1, 2): 0.6741379310344827\n",
            "Accuracy with alpha=0.5 and ngram_range=(1, 3): 0.6706896551724137\n",
            "Accuracy with alpha=1 and ngram_range=(1, 1): 0.6810344827586207\n",
            "Accuracy with alpha=1 and ngram_range=(1, 2): 0.6706896551724137\n",
            "Accuracy with alpha=1 and ngram_range=(1, 3): 0.6741379310344827\n",
            "Accuracy with alpha=3 and ngram_range=(1, 1): 0.6603448275862069\n",
            "Accuracy with alpha=3 and ngram_range=(1, 2): 0.6482758620689655\n",
            "Accuracy with alpha=3 and ngram_range=(1, 3): 0.6448275862068965\n",
            "Accuracy with alpha=7 and ngram_range=(1, 1): 0.6362068965517241\n",
            "Accuracy with alpha=7 and ngram_range=(1, 2): 0.6275862068965518\n",
            "Accuracy with alpha=7 and ngram_range=(1, 3): 0.6258620689655172\n",
            "Accuracy with alpha=10 and ngram_range=(1, 1): 0.6327586206896552\n",
            "Accuracy with alpha=10 and ngram_range=(1, 2): 0.6189655172413793\n",
            "Accuracy with alpha=10 and ngram_range=(1, 3): 0.6120689655172413\n"
          ]
        }
      ],
      "source": [
        "def evaluate_model(alpha, ngram_range, training_data, testing_data):\n",
        "    # Define the TfidfVectorizer with the specified ngram_range\n",
        "    vectorizer = TfidfVectorizer(ngram_range=ngram_range)\n",
        "\n",
        "    # Transform the training data\n",
        "    X_train = vectorizer.fit_transform(training_data['processed_text'])\n",
        "\n",
        "    # Transform the testing data\n",
        "    X_test = vectorizer.transform(testing_data['processed_text'])\n",
        "\n",
        "    # Create and train the Multinomial Naive Bayes classifier with the specified alpha value\n",
        "    model = MultinomialNB(alpha=alpha)\n",
        "    model.fit(X_train, training_data['label'])\n",
        "\n",
        "    # Make predictions\n",
        "    predictions = model.predict(X_test)\n",
        "\n",
        "    # Calculate and return the accuracy\n",
        "    accuracy = accuracy_score(testing_data['label'], predictions)\n",
        "    return accuracy\n",
        "\n",
        "# Define the hyperparameters to evaluate\n",
        "alphas = [0.1, 0.5, 1, 3, 7, 10]\n",
        "ngram_ranges = [(1, 1), (1, 2), (1, 3)]\n",
        "\n",
        "# Iterate over the hyperparameters and evaluate the model\n",
        "for alpha in alphas:\n",
        "    for ngram_range in ngram_ranges:\n",
        "        accuracy = evaluate_model(alpha, ngram_range, df, df2)\n",
        "        print(f\"Accuracy with alpha={alpha} and ngram_range={ngram_range}: {accuracy}\")\n",
        "\n",
        "##Reference\n",
        "##the code used above is available in this website: https://scikit-learn.org/stable/modules/generated/sklearn.naive_bayes.MultinomialNB.html"
      ]
    },
    {
      "cell_type": "code",
      "execution_count": null,
      "metadata": {
        "id": "ojK2wvF8IpRY",
        "colab": {
          "base_uri": "https://localhost:8080/",
          "height": 607
        },
        "outputId": "74bede89-b038-4d21-8f8c-5978df87436d"
      },
      "outputs": [
        {
          "output_type": "display_data",
          "data": {
            "text/plain": [
              "<Figure size 1000x600 with 1 Axes>"
            ],
            "image/png": "[encoded data removed]"
          },
          "metadata": {}
        }
      ],
      "source": [
        "# Define the alpha values and n-gram ranges\n",
        "alphas = [0.1, 0.5, 1, 3, 7, 10]\n",
        "ngram_ranges = [(1, 1), (1, 2), (1, 3)]\n",
        "\n",
        "# Extract the accuracy values\n",
        "accuracies = [\n",
        "    0.6706896551724137, 0.6706896551724137, 0.6689655172413793,\n",
        "    0.6775862068965517, 0.6741379310344827, 0.6706896551724137,\n",
        "    0.6810344827586207, 0.6706896551724137, 0.6741379310344827,\n",
        "    0.6603448275862069, 0.6482758620689655, 0.6448275862068965,\n",
        "    0.6362068965517241, 0.6275862068965518, 0.6258620689655172,\n",
        "    0.6327586206896552, 0.6189655172413793, 0.6120689655172413\n",
        "]\n",
        "\n",
        "# Create a list of labels for plotting\n",
        "labels = [f\"alpha={alpha}\\nngram_range={ngram_range}\" for alpha in alphas for ngram_range in ngram_ranges]\n",
        "\n",
        "# Plot the accuracy values as columns\n",
        "x = np.arange(len(labels))\n",
        "width = 0.35\n",
        "\n",
        "plt.figure(figsize=(10, 6))\n",
        "plt.bar(x, accuracies, width)\n",
        "plt.xticks(x, labels, rotation=90, ha='right')  # Rotate the labels by 90 degrees\n",
        "plt.xlabel('Alpha and n-gram range')\n",
        "plt.ylabel('Accuracy')\n",
        "plt.title('Accuracy for Different Alpha Values and N-gram Ranges')\n",
        "plt.tight_layout()\n",
        "plt.show()\n"
      ]
    },
    {
      "cell_type": "code",
      "execution_count": null,
      "metadata": {
        "id": "8FDTdYn6JjYg",
        "colab": {
          "base_uri": "https://localhost:8080/"
        },
        "outputId": "23b28d31-bcb1-40c7-ca70-e780d4da0724"
      },
      "outputs": [
        {
          "output_type": "stream",
          "name": "stdout",
          "text": [
            "    Alpha N-gram Range  Accuracy\n",
            "0     0.1          1-1  0.670690\n",
            "1     0.5          1-2  0.670690\n",
            "2     1.0          1-3  0.668966\n",
            "3     3.0          1-1  0.677586\n",
            "4     7.0          1-2  0.674138\n",
            "5    10.0          1-3  0.670690\n",
            "6     0.1          1-1  0.681034\n",
            "7     0.5          1-2  0.670690\n",
            "8     1.0          1-3  0.674138\n",
            "9     3.0          1-1  0.660345\n",
            "10    7.0          1-2  0.648276\n",
            "11   10.0          1-3  0.644828\n",
            "12    0.1          1-1  0.636207\n",
            "13    0.5          1-2  0.627586\n",
            "14    1.0          1-3  0.625862\n",
            "15    3.0          1-1  0.632759\n",
            "16    7.0          1-2  0.618966\n",
            "17   10.0          1-3  0.612069\n"
          ]
        }
      ],
      "source": [
        "# Define the alpha values and n-gram ranges\n",
        "alphas = [0.1, 0.5, 1, 3, 7, 10]\n",
        "ngram_ranges = [(1, 1), (1, 2), (1, 3)]\n",
        "\n",
        "# Extract the accuracy values\n",
        "accuracies = [\n",
        "    0.6706896551724137, 0.6706896551724137, 0.6689655172413793,\n",
        "    0.6775862068965517, 0.6741379310344827, 0.6706896551724137,\n",
        "    0.6810344827586207, 0.6706896551724137, 0.6741379310344827,\n",
        "    0.6603448275862069, 0.6482758620689655, 0.6448275862068965,\n",
        "    0.6362068965517241, 0.6275862068965518, 0.6258620689655172,\n",
        "    0.6327586206896552, 0.6189655172413793, 0.6120689655172413\n",
        "]\n",
        "\n",
        "# Create a DataFrame with the accuracy data\n",
        "data = {\n",
        "    'Alpha': alphas * len(ngram_ranges),\n",
        "    'N-gram Range': [f\"{ngram_range[0]}-{ngram_range[1]}\" for ngram_range in ngram_ranges * len(alphas)],\n",
        "    'Accuracy': accuracies\n",
        "}\n",
        "dataframe = pd.DataFrame(data)\n",
        "\n",
        "# Display the DataFrame\n",
        "print(dataframe)\n"
      ]
    },
    {
      "cell_type": "code",
      "execution_count": null,
      "metadata": {
        "colab": {
          "base_uri": "https://localhost:8080/",
          "height": 607
        },
        "id": "ypoJ7RqZIFZv",
        "outputId": "4481dad4-31c2-40ee-8fa8-5fd03ec08739"
      },
      "outputs": [
        {
          "output_type": "display_data",
          "data": {
            "text/plain": [
              "<Figure size 1000x600 with 1 Axes>"
            ],
            "image/png": "[encoded data removed]"
          },
          "metadata": {}
        }
      ],
      "source": [
        "# Define the alpha values and n-gram ranges\n",
        "alphas = [0.1, 0.5, 1, 3, 7, 10]\n",
        "ngram_ranges = [(1, 1), (1, 2), (1, 3)]\n",
        "\n",
        "# Extract the accuracy values\n",
        "accuracies = [\n",
        "    0.6706896551724137, 0.6706896551724137, 0.6689655172413793,\n",
        "    0.6775862068965517, 0.6741379310344827, 0.6706896551724137,\n",
        "    0.6810344827586207, 0.6706896551724137, 0.6741379310344827,\n",
        "    0.6603448275862069, 0.6482758620689655, 0.6448275862068965,\n",
        "    0.6362068965517241, 0.6275862068965518, 0.6258620689655172,\n",
        "    0.6327586206896552, 0.6189655172413793, 0.6120689655172413\n",
        "]\n",
        "\n",
        "# Create a list of labels for plotting\n",
        "labels = [f\"alpha={alpha}\\nngram_range={ngram_range}\" for alpha in alphas for ngram_range in ngram_ranges]\n",
        "\n",
        "# Plot the accuracy values\n",
        "plt.figure(figsize=(10, 6))\n",
        "plt.plot(labels, accuracies, marker='o')\n",
        "plt.xticks(rotation=90, ha='right')\n",
        "plt.xlabel('Alpha and n-gram range')\n",
        "plt.ylabel('Accuracy')\n",
        "plt.title('Accuracy for Different Alpha Values and N-gram Ranges')\n",
        "plt.tight_layout()\n",
        "plt.show()\n"
      ]
    },
    {
      "cell_type": "markdown",
      "metadata": {
        "id": "EpxyuD-2LIDV"
      },
      "source": [
        ":\n"
      ]
    },
    {
      "cell_type": "markdown",
      "metadata": {
        "id": "J2ZBa-LpVEqw"
      },
      "source": [
        "###Approach 2 : Logistic regression using Word2vec"
      ]
    },
    {
      "cell_type": "code",
      "execution_count": null,
      "metadata": {
        "id": "CNd4K1J1lkG6"
      },
      "outputs": [],
      "source": [
        "from gensim.models import KeyedVectors\n",
        "import gensim.downloader as api\n",
        "from sklearn.linear_model import LogisticRegression\n",
        "from sklearn.metrics import classification_report, accuracy_score\n",
        "from sklearn.linear_model import LogisticRegression\n",
        "from sklearn.metrics import classification_report, accuracy_score\n",
        "from sklearn.model_selection import GridSearchCV\n",
        "\n"
      ]
    },
    {
      "cell_type": "code",
      "execution_count": null,
      "metadata": {
        "id": "XZ_zB5N0OKxU"
      },
      "outputs": [],
      "source": [
        "# Download and load the pre-trained Word2Vec model\n",
        "word2vec_model = api.load('word2vec-google-news-300')\n",
        "\n",
        "# Function that uses word embeddings to convert a sentence into a vector representation\n",
        "def word_embedding(sentence, model):\n",
        "    words = sentence.split()\n",
        "    embedding = np.zeros((model.vector_size,))\n",
        "    count = 0\n",
        "    for word in words:\n",
        "        if word in model.key_to_index:\n",
        "            embedding += model.get_vector(word)\n",
        "            count += 1\n",
        "    if count > 0:\n",
        "        embedding /= count\n",
        "    return embedding\n",
        "##reference\n",
        "## the code written above is available in this website : https://radimrehurek.com/gensim/auto_examples/tutorials/run_word2vec.html"
      ]
    },
    {
      "cell_type": "code",
      "execution_count": null,
      "metadata": {
        "id": "hIwFYe862yyQ",
        "colab": {
          "base_uri": "https://localhost:8080/"
        },
        "outputId": "f6a35370-7551-4cc7-cf2c-dc002dafdc3b"
      },
      "outputs": [
        {
          "output_type": "stream",
          "name": "stdout",
          "text": [
            "Accuracy: 0.7034482758620689\n",
            "Logistic Regression Classifier Report:\n",
            "                precision    recall  f1-score   support\n",
            "\n",
            "not_propaganda       0.72      0.69      0.71       301\n",
            "    propaganda       0.68      0.72      0.70       279\n",
            "\n",
            "      accuracy                           0.70       580\n",
            "     macro avg       0.70      0.70      0.70       580\n",
            "  weighted avg       0.70      0.70      0.70       580\n",
            "\n"
          ]
        }
      ],
      "source": [
        "# Transform the text data into word embeddings\n",
        "Em_X_train = [word_embedding(sentence, word2vec_model) for sentence in df['processed_text']]\n",
        "Em_X_test = [word_embedding(sentence, word2vec_model) for sentence in df2['processed_text']]\n",
        "Em_y_train = df['label']\n",
        "Em_y_test = df2['label']\n",
        "\n",
        "# Train the Logistic Regression model\n",
        "logreg = LogisticRegression()\n",
        "logreg.fit(Em_X_train, Em_y_train)\n",
        "\n",
        "# Make predictions on the test set\n",
        "predictions = logreg.predict(Em_X_test)\n",
        "\n",
        "# Compute accuracy\n",
        "accuracy = accuracy_score(Em_y_test, predictions)\n",
        "print(f'Accuracy: {accuracy}')\n",
        "\n",
        "# Generate and print the classification report\n",
        "report = classification_report(Em_y_test, predictions)\n",
        "print(f'Logistic Regression Classifier Report:\\n{report}')\n"
      ]
    },
    {
      "cell_type": "code",
      "execution_count": null,
      "metadata": {
        "id": "mvaiGvPwZWFY",
        "colab": {
          "base_uri": "https://localhost:8080/"
        },
        "outputId": "c3f47568-4c00-4023-c9bf-4ab517752276"
      },
      "outputs": [
        {
          "output_type": "stream",
          "name": "stdout",
          "text": [
            "C Hyperparameter Tuning:\n",
            "Accuracy: 0.677304, Parameters: {'C': 0.01, 'penalty': 'l2', 'solver': 'liblinear'} \n",
            "Accuracy: 0.684353, Parameters: {'C': 0.01, 'penalty': 'l2', 'solver': 'newton-cg'} \n",
            "Accuracy: 0.684353, Parameters: {'C': 0.01, 'penalty': 'l2', 'solver': 'lbfgs'} \n",
            "Accuracy: 0.692639, Parameters: {'C': 0.1, 'penalty': 'l2', 'solver': 'liblinear'} \n",
            "Accuracy: 0.693054, Parameters: {'C': 0.1, 'penalty': 'l2', 'solver': 'newton-cg'} \n",
            "Accuracy: 0.693054, Parameters: {'C': 0.1, 'penalty': 'l2', 'solver': 'lbfgs'} \n",
            "Accuracy: 0.681455, Parameters: {'C': 1, 'penalty': 'l2', 'solver': 'liblinear'} \n",
            "Accuracy: 0.682283, Parameters: {'C': 1, 'penalty': 'l2', 'solver': 'newton-cg'} \n",
            "Accuracy: 0.682283, Parameters: {'C': 1, 'penalty': 'l2', 'solver': 'lbfgs'} \n",
            "Accuracy: 0.680625, Parameters: {'C': 10, 'penalty': 'l2', 'solver': 'liblinear'} \n",
            "Accuracy: 0.681039, Parameters: {'C': 10, 'penalty': 'l2', 'solver': 'newton-cg'} \n",
            "Accuracy: 0.681039, Parameters: {'C': 10, 'penalty': 'l2', 'solver': 'lbfgs'} \n",
            "Accuracy: 0.672757, Parameters: {'C': 100, 'penalty': 'l2', 'solver': 'liblinear'} \n",
            "Accuracy: 0.672757, Parameters: {'C': 100, 'penalty': 'l2', 'solver': 'newton-cg'} \n",
            "Accuracy: 0.672757, Parameters: {'C': 100, 'penalty': 'l2', 'solver': 'lbfgs'} \n"
          ]
        }
      ],
      "source": [
        "# First, tune 'C' values while keeping 'penalty' fixed\n",
        "param_grid_C = {\n",
        "    'C': [0.01, 0.1, 1, 10, 100],\n",
        "    'penalty': ['l2'],  # Fix penalty to 'l2'\n",
        "    'solver': ['liblinear', 'newton-cg', 'lbfgs']\n",
        "}\n",
        "\n",
        "logreg_C_tuning = LogisticRegression(max_iter=600)\n",
        "grid_search_C = GridSearchCV(logreg_C_tuning, param_grid_C, cv=5)\n",
        "grid_search_C.fit(Em_X_train, Em_y_train)\n",
        "\n",
        "# Get the best model and its hyperparameters for 'C' tuning\n",
        "best_model_C = grid_search_C.best_estimator_\n",
        "best_params_C = grid_search_C.best_params_\n",
        "\n",
        "# Next, tune 'penalty' values while keeping 'C' fixed\n",
        "param_grid_penalty = {\n",
        "    'C': [best_params_C['C']],  # Fix 'C' to the best value from 'C' tuning\n",
        "    'penalty': ['l1', 'l2'],  # Tune both 'l1' and 'l2' penalties\n",
        "    'solver': ['liblinear']\n",
        "}\n",
        "\n",
        "logreg_penalty_tuning = LogisticRegression(max_iter=600)\n",
        "grid_search_penalty = GridSearchCV(logreg_penalty_tuning, param_grid_penalty, cv=5)\n",
        "grid_search_penalty.fit(Em_X_train, Em_y_train)\n",
        "\n",
        "# Get the best model and its hyperparameters for 'penalty' tuning\n",
        "best_model_penalty = grid_search_penalty.best_estimator_\n",
        "best_params_penalty = grid_search_penalty.best_params_\n",
        "\n",
        "# Print the accuracy scores for each 'C' parameter configuration\n",
        "results_C = grid_search_C.cv_results_\n",
        "param_configs_C = results_C['params']\n",
        "mean_test_accuracy_C = results_C['mean_test_score']\n",
        "std_test_accuracy_C = results_C['std_test_score']\n",
        "\n",
        "print(\"C Hyperparameter Tuning:\")\n",
        "for config, mean_score, std_score in zip(param_configs_C, mean_test_accuracy_C, std_test_accuracy_C):\n",
        "    print(f\"Accuracy: {mean_score:.6f}, Parameters: {config} \" )\n",
        "##Reference\n",
        "##the code used above is available in this website: https://towardsdatascience.com/logistic-regression-using-python-sklearn-numpy-mnist-handwriting-recognition-matplotlib-a6b31e2b166a\n",
        "##the hyperparameters  : https://machinelearningmastery.com/hyperparameters-for-classification-machine-learning-algorithms/"
      ]
    },
    {
      "cell_type": "code",
      "execution_count": null,
      "metadata": {
        "id": "vL5W8Cqrb3Hx",
        "colab": {
          "base_uri": "https://localhost:8080/"
        },
        "outputId": "964da230-6fb7-4396-8a34-716c9dfffd5f"
      },
      "outputs": [
        {
          "output_type": "stream",
          "name": "stdout",
          "text": [
            "\n",
            "Penalty Hyperparameter Tuning:\n",
            "Accuracy: 0.612670, Parameters: {'C': 0.1, 'penalty': 'l1', 'solver': 'liblinear'},  \n",
            "Accuracy: 0.692639, Parameters: {'C': 0.1, 'penalty': 'l2', 'solver': 'liblinear'},  \n"
          ]
        }
      ],
      "source": [
        "#  the accuracy scores for each 'penalty' parameter configuration\n",
        "results_penalty = grid_search_penalty.cv_results_\n",
        "param_configs_penalty = results_penalty['params']\n",
        "mean_test_accuracy_penalty = results_penalty['mean_test_score']\n",
        "std_test_accuracy_penalty = results_penalty['std_test_score']\n",
        "\n",
        "print(\"\\nPenalty Hyperparameter Tuning:\")\n",
        "for config, mean_score, std_score in zip(param_configs_penalty, mean_test_accuracy_penalty, std_test_accuracy_penalty):\n",
        "    print(f\"Accuracy: {mean_score:.6f}, Parameters: {config},  \")"
      ]
    },
    {
      "cell_type": "markdown",
      "metadata": {
        "id": "QIorHX4PPuNz"
      },
      "source": [
        "## TASK 2"
      ]
    },
    {
      "cell_type": "markdown",
      "metadata": {
        "id": "QTesH0YEA1r8"
      },
      "source": [
        "In task 2 we have to build and evaluate atleast two approaches to classify the propoganda technique used in a given snippet or span of text. In the first approach we did Neural Language Models(GRU) and second approach we did Pre-trained Language models(BERT).\n",
        "\n"
      ]
    },
    {
      "cell_type": "markdown",
      "metadata": {
        "id": "80gi8AgqgRhm"
      },
      "source": [
        "###Data Pre-processing"
      ]
    },
    {
      "cell_type": "code",
      "execution_count": null,
      "metadata": {
        "id": "lQknC9yXOUDt",
        "colab": {
          "base_uri": "https://localhost:8080/"
        },
        "outputId": "d5ee566d-abe6-40aa-b976-63076c94d5ee"
      },
      "outputs": [
        {
          "output_type": "stream",
          "name": "stderr",
          "text": [
            "[nltk_data] Downloading package punkt to /root/nltk_data...\n",
            "[nltk_data]   Package punkt is already up-to-date!\n",
            "[nltk_data] Downloading package averaged_perceptron_tagger to\n",
            "[nltk_data]     /root/nltk_data...\n",
            "[nltk_data]   Package averaged_perceptron_tagger is already up-to-\n",
            "[nltk_data]       date!\n",
            "[nltk_data] Downloading package wordnet to /root/nltk_data...\n",
            "[nltk_data]   Package wordnet is already up-to-date!\n"
          ]
        },
        {
          "output_type": "execute_result",
          "data": {
            "text/plain": [
              "True"
            ]
          },
          "metadata": {},
          "execution_count": 26
        }
      ],
      "source": [
        "import pandas as pd\n",
        "import nltk\n",
        "from nltk.corpus import wordnet\n",
        "from nltk.stem import WordNetLemmatizer\n",
        "from nltk.tokenize import word_tokenize\n",
        "from nltk.corpus import stopwords\n",
        "\n",
        "nltk.download('punkt')\n",
        "nltk.download('averaged_perceptron_tagger')\n",
        "nltk.download('wordnet')"
      ]
    },
    {
      "cell_type": "code",
      "execution_count": null,
      "metadata": {
        "id": "JaPsj81rhNnn"
      },
      "outputs": [],
      "source": [
        "dft=df_train.copy(deep=True)\n",
        "dft2=df2_test.copy(deep=True)"
      ]
    },
    {
      "cell_type": "code",
      "execution_count": null,
      "metadata": {
        "id": "HzNSWLKoQDqR",
        "colab": {
          "base_uri": "https://localhost:8080/",
          "height": 206
        },
        "outputId": "8c04b2a5-46be-48d7-852c-d6dc3c9ee8e8"
      },
      "outputs": [
        {
          "output_type": "execute_result",
          "data": {
            "text/plain": [
              "            label                                  tagged_in_context\n",
              "0  not_propaganda         No, <BOS> he <EOS> will not be confirmed. \n",
              "1  not_propaganda  This declassification effort <BOS> won’t make ...\n",
              "2     flag_waving  The Obama administration misled the <BOS> Amer...\n",
              "3  not_propaganda  “It looks like we’re capturing the demise of t...\n",
              "4  not_propaganda           <BOS> Location: Westerville, Ohio <EOS> "
            ],
            "text/html": [
              "\n",
              "\n",
              "  <div id=\"df-f194f3b6-ceee-4962-9384-924b24165318\">\n",
              "    <div class=\"colab-df-container\">\n",
              "      <div>\n",
              "<style scoped>\n",
              "    .dataframe tbody tr th:only-of-type {\n",
              "        vertical-align: middle;\n",
              "    }\n",
              "\n",
              "    .dataframe tbody tr th {\n",
              "        vertical-align: top;\n",
              "    }\n",
              "\n",
              "    .dataframe thead th {\n",
              "        text-align: right;\n",
              "    }\n",
              "</style>\n",
              "<table border=\"1\" class=\"dataframe\">\n",
              "  <thead>\n",
              "    <tr style=\"text-align: right;\">\n",
              "      <th></th>\n",
              "      <th>label</th>\n",
              "      <th>tagged_in_context</th>\n",
              "    </tr>\n",
              "  </thead>\n",
              "  <tbody>\n",
              "    <tr>\n",
              "      <th>0</th>\n",
              "      <td>not_propaganda</td>\n",
              "      <td>No, &lt;BOS&gt; he &lt;EOS&gt; will not be confirmed.</td>\n",
              "    </tr>\n",
              "    <tr>\n",
              "      <th>1</th>\n",
              "      <td>not_propaganda</td>\n",
              "      <td>This declassification effort &lt;BOS&gt; won’t make ...</td>\n",
              "    </tr>\n",
              "    <tr>\n",
              "      <th>2</th>\n",
              "      <td>flag_waving</td>\n",
              "      <td>The Obama administration misled the &lt;BOS&gt; Amer...</td>\n",
              "    </tr>\n",
              "    <tr>\n",
              "      <th>3</th>\n",
              "      <td>not_propaganda</td>\n",
              "      <td>“It looks like we’re capturing the demise of t...</td>\n",
              "    </tr>\n",
              "    <tr>\n",
              "      <th>4</th>\n",
              "      <td>not_propaganda</td>\n",
              "      <td>&lt;BOS&gt; Location: Westerville, Ohio &lt;EOS&gt;</td>\n",
              "    </tr>\n",
              "  </tbody>\n",
              "</table>\n",
              "</div>\n",
              "      <button class=\"colab-df-convert\" onclick=\"convertToInteractive('df-f194f3b6-ceee-4962-9384-924b24165318')\"\n",
              "              title=\"Convert this dataframe to an interactive table.\"\n",
              "              style=\"display:none;\">\n",
              "\n",
              "  <svg xmlns=\"http://www.w3.org/2000/svg\" height=\"24px\"viewBox=\"0 0 24 24\"\n",
              "       width=\"24px\">\n",
              "    <path d=\"M0 0h24v24H0V0z\" fill=\"none\"/>\n",
              "    <path d=\"M18.56 5.44l.94 2.06.94-2.06 2.06-.94-2.06-.94-.94-2.06-.94 2.06-2.06.94zm-11 1L8.5 8.5l.94-2.06 2.06-.94-2.06-.94L8.5 2.5l-.94 2.06-2.06.94zm10 10l.94 2.06.94-2.06 2.06-.94-2.06-.94-.94-2.06-.94 2.06-2.06.94z\"/><path d=\"M17.41 7.96l-1.37-1.37c-.4-.4-.92-.59-1.43-.59-.52 0-1.04.2-1.43.59L10.3 9.45l-7.72 7.72c-.78.78-.78 2.05 0 2.83L4 21.41c.39.39.9.59 1.41.59.51 0 1.02-.2 1.41-.59l7.78-7.78 2.81-2.81c.8-.78.8-2.07 0-2.86zM5.41 20L4 18.59l7.72-7.72 1.47 1.35L5.41 20z\"/>\n",
              "  </svg>\n",
              "      </button>\n",
              "\n",
              "\n",
              "\n",
              "    <div id=\"df-46e673db-03cc-4749-848e-970049b4d78a\">\n",
              "      <button class=\"colab-df-quickchart\" onclick=\"quickchart('df-46e673db-03cc-4749-848e-970049b4d78a')\"\n",
              "              title=\"Suggest charts.\"\n",
              "              style=\"display:none;\">\n",
              "\n",
              "<svg xmlns=\"http://www.w3.org/2000/svg\" height=\"24px\"viewBox=\"0 0 24 24\"\n",
              "     width=\"24px\">\n",
              "    <g>\n",
              "        <path d=\"M19 3H5c-1.1 0-2 .9-2 2v14c0 1.1.9 2 2 2h14c1.1 0 2-.9 2-2V5c0-1.1-.9-2-2-2zM9 17H7v-7h2v7zm4 0h-2V7h2v10zm4 0h-2v-4h2v4z\"/>\n",
              "    </g>\n",
              "</svg>\n",
              "      </button>\n",
              "    </div>\n",
              "\n",
              "<style>\n",
              "  .colab-df-quickchart {\n",
              "    background-color: #E8F0FE;\n",
              "    border: none;\n",
              "    border-radius: 50%;\n",
              "    cursor: pointer;\n",
              "    display: none;\n",
              "    fill: #1967D2;\n",
              "    height: 32px;\n",
              "    padding: 0 0 0 0;\n",
              "    width: 32px;\n",
              "  }\n",
              "\n",
              "  .colab-df-quickchart:hover {\n",
              "    background-color: #E2EBFA;\n",
              "    box-shadow: 0px 1px 2px rgba(60, 64, 67, 0.3), 0px 1px 3px 1px rgba(60, 64, 67, 0.15);\n",
              "    fill: #174EA6;\n",
              "  }\n",
              "\n",
              "  [theme=dark] .colab-df-quickchart {\n",
              "    background-color: #3B4455;\n",
              "    fill: #D2E3FC;\n",
              "  }\n",
              "\n",
              "  [theme=dark] .colab-df-quickchart:hover {\n",
              "    background-color: #434B5C;\n",
              "    box-shadow: 0px 1px 3px 1px rgba(0, 0, 0, 0.15);\n",
              "    filter: drop-shadow(0px 1px 2px rgba(0, 0, 0, 0.3));\n",
              "    fill: #FFFFFF;\n",
              "  }\n",
              "</style>\n",
              "\n",
              "    <script>\n",
              "      async function quickchart(key) {\n",
              "        const containerElement = document.querySelector('#' + key);\n",
              "        const charts = await google.colab.kernel.invokeFunction(\n",
              "            'suggestCharts', [key], {});\n",
              "      }\n",
              "    </script>\n",
              "\n",
              "      <script>\n",
              "\n",
              "function displayQuickchartButton(domScope) {\n",
              "  let quickchartButtonEl =\n",
              "    domScope.querySelector('#df-46e673db-03cc-4749-848e-970049b4d78a button.colab-df-quickchart');\n",
              "  quickchartButtonEl.style.display =\n",
              "    google.colab.kernel.accessAllowed ? 'block' : 'none';\n",
              "}\n",
              "\n",
              "        displayQuickchartButton(document);\n",
              "      </script>\n",
              "      <style>\n",
              "    .colab-df-container {\n",
              "      display:flex;\n",
              "      flex-wrap:wrap;\n",
              "      gap: 12px;\n",
              "    }\n",
              "\n",
              "    .colab-df-convert {\n",
              "      background-color: #E8F0FE;\n",
              "      border: none;\n",
              "      border-radius: 50%;\n",
              "      cursor: pointer;\n",
              "      display: none;\n",
              "      fill: #1967D2;\n",
              "      height: 32px;\n",
              "      padding: 0 0 0 0;\n",
              "      width: 32px;\n",
              "    }\n",
              "\n",
              "    .colab-df-convert:hover {\n",
              "      background-color: #E2EBFA;\n",
              "      box-shadow: 0px 1px 2px rgba(60, 64, 67, 0.3), 0px 1px 3px 1px rgba(60, 64, 67, 0.15);\n",
              "      fill: #174EA6;\n",
              "    }\n",
              "\n",
              "    [theme=dark] .colab-df-convert {\n",
              "      background-color: #3B4455;\n",
              "      fill: #D2E3FC;\n",
              "    }\n",
              "\n",
              "    [theme=dark] .colab-df-convert:hover {\n",
              "      background-color: #434B5C;\n",
              "      box-shadow: 0px 1px 3px 1px rgba(0, 0, 0, 0.15);\n",
              "      filter: drop-shadow(0px 1px 2px rgba(0, 0, 0, 0.3));\n",
              "      fill: #FFFFFF;\n",
              "    }\n",
              "  </style>\n",
              "\n",
              "      <script>\n",
              "        const buttonEl =\n",
              "          document.querySelector('#df-f194f3b6-ceee-4962-9384-924b24165318 button.colab-df-convert');\n",
              "        buttonEl.style.display =\n",
              "          google.colab.kernel.accessAllowed ? 'block' : 'none';\n",
              "\n",
              "        async function convertToInteractive(key) {\n",
              "          const element = document.querySelector('#df-f194f3b6-ceee-4962-9384-924b24165318');\n",
              "          const dataTable =\n",
              "            await google.colab.kernel.invokeFunction('convertToInteractive',\n",
              "                                                     [key], {});\n",
              "          if (!dataTable) return;\n",
              "\n",
              "          const docLinkHtml = 'Like what you see? Visit the ' +\n",
              "            '<a target=\"_blank\" href=https://colab.research.google.com/notebooks/data_table.ipynb>data table notebook</a>'\n",
              "            + ' to learn more about interactive tables.';\n",
              "          element.innerHTML = '';\n",
              "          dataTable['output_type'] = 'display_data';\n",
              "          await google.colab.output.renderOutput(dataTable, element);\n",
              "          const docLink = document.createElement('div');\n",
              "          docLink.innerHTML = docLinkHtml;\n",
              "          element.appendChild(docLink);\n",
              "        }\n",
              "      </script>\n",
              "    </div>\n",
              "  </div>\n"
            ]
          },
          "metadata": {},
          "execution_count": 28
        }
      ],
      "source": [
        "dft.head()"
      ]
    },
    {
      "cell_type": "code",
      "execution_count": null,
      "metadata": {
        "id": "i2_4TMSWFO8g",
        "colab": {
          "base_uri": "https://localhost:8080/",
          "height": 206
        },
        "outputId": "1f4bf102-3b8a-4b10-d264-af4749e55c64"
      },
      "outputs": [
        {
          "output_type": "execute_result",
          "data": {
            "text/plain": [
              "                       label  \\\n",
              "0             not_propaganda   \n",
              "1  causal_oversimplification   \n",
              "2   appeal_to_fear_prejudice   \n",
              "3             not_propaganda   \n",
              "4                 repetition   \n",
              "\n",
              "                                   tagged_in_context  \n",
              "0  On average, between 300 and 600 infections are...  \n",
              "1  Mostly because <BOS> the country would not las...  \n",
              "2  Lyndon Johnson <BOS> gets Earl Warren and Sen....  \n",
              "3           <BOS> You <EOS> may opt out at anytime.   \n",
              "4  It must be exacted from him directly in order ...  "
            ],
            "text/html": [
              "\n",
              "\n",
              "  <div id=\"df-c853ca26-5277-4b69-b424-b1f6bf07ef33\">\n",
              "    <div class=\"colab-df-container\">\n",
              "      <div>\n",
              "<style scoped>\n",
              "    .dataframe tbody tr th:only-of-type {\n",
              "        vertical-align: middle;\n",
              "    }\n",
              "\n",
              "    .dataframe tbody tr th {\n",
              "        vertical-align: top;\n",
              "    }\n",
              "\n",
              "    .dataframe thead th {\n",
              "        text-align: right;\n",
              "    }\n",
              "</style>\n",
              "<table border=\"1\" class=\"dataframe\">\n",
              "  <thead>\n",
              "    <tr style=\"text-align: right;\">\n",
              "      <th></th>\n",
              "      <th>label</th>\n",
              "      <th>tagged_in_context</th>\n",
              "    </tr>\n",
              "  </thead>\n",
              "  <tbody>\n",
              "    <tr>\n",
              "      <th>0</th>\n",
              "      <td>not_propaganda</td>\n",
              "      <td>On average, between 300 and 600 infections are...</td>\n",
              "    </tr>\n",
              "    <tr>\n",
              "      <th>1</th>\n",
              "      <td>causal_oversimplification</td>\n",
              "      <td>Mostly because &lt;BOS&gt; the country would not las...</td>\n",
              "    </tr>\n",
              "    <tr>\n",
              "      <th>2</th>\n",
              "      <td>appeal_to_fear_prejudice</td>\n",
              "      <td>Lyndon Johnson &lt;BOS&gt; gets Earl Warren and Sen....</td>\n",
              "    </tr>\n",
              "    <tr>\n",
              "      <th>3</th>\n",
              "      <td>not_propaganda</td>\n",
              "      <td>&lt;BOS&gt; You &lt;EOS&gt; may opt out at anytime.</td>\n",
              "    </tr>\n",
              "    <tr>\n",
              "      <th>4</th>\n",
              "      <td>repetition</td>\n",
              "      <td>It must be exacted from him directly in order ...</td>\n",
              "    </tr>\n",
              "  </tbody>\n",
              "</table>\n",
              "</div>\n",
              "      <button class=\"colab-df-convert\" onclick=\"convertToInteractive('df-c853ca26-5277-4b69-b424-b1f6bf07ef33')\"\n",
              "              title=\"Convert this dataframe to an interactive table.\"\n",
              "              style=\"display:none;\">\n",
              "\n",
              "  <svg xmlns=\"http://www.w3.org/2000/svg\" height=\"24px\"viewBox=\"0 0 24 24\"\n",
              "       width=\"24px\">\n",
              "    <path d=\"M0 0h24v24H0V0z\" fill=\"none\"/>\n",
              "    <path d=\"M18.56 5.44l.94 2.06.94-2.06 2.06-.94-2.06-.94-.94-2.06-.94 2.06-2.06.94zm-11 1L8.5 8.5l.94-2.06 2.06-.94-2.06-.94L8.5 2.5l-.94 2.06-2.06.94zm10 10l.94 2.06.94-2.06 2.06-.94-2.06-.94-.94-2.06-.94 2.06-2.06.94z\"/><path d=\"M17.41 7.96l-1.37-1.37c-.4-.4-.92-.59-1.43-.59-.52 0-1.04.2-1.43.59L10.3 9.45l-7.72 7.72c-.78.78-.78 2.05 0 2.83L4 21.41c.39.39.9.59 1.41.59.51 0 1.02-.2 1.41-.59l7.78-7.78 2.81-2.81c.8-.78.8-2.07 0-2.86zM5.41 20L4 18.59l7.72-7.72 1.47 1.35L5.41 20z\"/>\n",
              "  </svg>\n",
              "      </button>\n",
              "\n",
              "\n",
              "\n",
              "    <div id=\"df-ae065bf7-f646-4d8d-b85f-bc6dbbffb7aa\">\n",
              "      <button class=\"colab-df-quickchart\" onclick=\"quickchart('df-ae065bf7-f646-4d8d-b85f-bc6dbbffb7aa')\"\n",
              "              title=\"Suggest charts.\"\n",
              "              style=\"display:none;\">\n",
              "\n",
              "<svg xmlns=\"http://www.w3.org/2000/svg\" height=\"24px\"viewBox=\"0 0 24 24\"\n",
              "     width=\"24px\">\n",
              "    <g>\n",
              "        <path d=\"M19 3H5c-1.1 0-2 .9-2 2v14c0 1.1.9 2 2 2h14c1.1 0 2-.9 2-2V5c0-1.1-.9-2-2-2zM9 17H7v-7h2v7zm4 0h-2V7h2v10zm4 0h-2v-4h2v4z\"/>\n",
              "    </g>\n",
              "</svg>\n",
              "      </button>\n",
              "    </div>\n",
              "\n",
              "<style>\n",
              "  .colab-df-quickchart {\n",
              "    background-color: #E8F0FE;\n",
              "    border: none;\n",
              "    border-radius: 50%;\n",
              "    cursor: pointer;\n",
              "    display: none;\n",
              "    fill: #1967D2;\n",
              "    height: 32px;\n",
              "    padding: 0 0 0 0;\n",
              "    width: 32px;\n",
              "  }\n",
              "\n",
              "  .colab-df-quickchart:hover {\n",
              "    background-color: #E2EBFA;\n",
              "    box-shadow: 0px 1px 2px rgba(60, 64, 67, 0.3), 0px 1px 3px 1px rgba(60, 64, 67, 0.15);\n",
              "    fill: #174EA6;\n",
              "  }\n",
              "\n",
              "  [theme=dark] .colab-df-quickchart {\n",
              "    background-color: #3B4455;\n",
              "    fill: #D2E3FC;\n",
              "  }\n",
              "\n",
              "  [theme=dark] .colab-df-quickchart:hover {\n",
              "    background-color: #434B5C;\n",
              "    box-shadow: 0px 1px 3px 1px rgba(0, 0, 0, 0.15);\n",
              "    filter: drop-shadow(0px 1px 2px rgba(0, 0, 0, 0.3));\n",
              "    fill: #FFFFFF;\n",
              "  }\n",
              "</style>\n",
              "\n",
              "    <script>\n",
              "      async function quickchart(key) {\n",
              "        const containerElement = document.querySelector('#' + key);\n",
              "        const charts = await google.colab.kernel.invokeFunction(\n",
              "            'suggestCharts', [key], {});\n",
              "      }\n",
              "    </script>\n",
              "\n",
              "      <script>\n",
              "\n",
              "function displayQuickchartButton(domScope) {\n",
              "  let quickchartButtonEl =\n",
              "    domScope.querySelector('#df-ae065bf7-f646-4d8d-b85f-bc6dbbffb7aa button.colab-df-quickchart');\n",
              "  quickchartButtonEl.style.display =\n",
              "    google.colab.kernel.accessAllowed ? 'block' : 'none';\n",
              "}\n",
              "\n",
              "        displayQuickchartButton(document);\n",
              "      </script>\n",
              "      <style>\n",
              "    .colab-df-container {\n",
              "      display:flex;\n",
              "      flex-wrap:wrap;\n",
              "      gap: 12px;\n",
              "    }\n",
              "\n",
              "    .colab-df-convert {\n",
              "      background-color: #E8F0FE;\n",
              "      border: none;\n",
              "      border-radius: 50%;\n",
              "      cursor: pointer;\n",
              "      display: none;\n",
              "      fill: #1967D2;\n",
              "      height: 32px;\n",
              "      padding: 0 0 0 0;\n",
              "      width: 32px;\n",
              "    }\n",
              "\n",
              "    .colab-df-convert:hover {\n",
              "      background-color: #E2EBFA;\n",
              "      box-shadow: 0px 1px 2px rgba(60, 64, 67, 0.3), 0px 1px 3px 1px rgba(60, 64, 67, 0.15);\n",
              "      fill: #174EA6;\n",
              "    }\n",
              "\n",
              "    [theme=dark] .colab-df-convert {\n",
              "      background-color: #3B4455;\n",
              "      fill: #D2E3FC;\n",
              "    }\n",
              "\n",
              "    [theme=dark] .colab-df-convert:hover {\n",
              "      background-color: #434B5C;\n",
              "      box-shadow: 0px 1px 3px 1px rgba(0, 0, 0, 0.15);\n",
              "      filter: drop-shadow(0px 1px 2px rgba(0, 0, 0, 0.3));\n",
              "      fill: #FFFFFF;\n",
              "    }\n",
              "  </style>\n",
              "\n",
              "      <script>\n",
              "        const buttonEl =\n",
              "          document.querySelector('#df-c853ca26-5277-4b69-b424-b1f6bf07ef33 button.colab-df-convert');\n",
              "        buttonEl.style.display =\n",
              "          google.colab.kernel.accessAllowed ? 'block' : 'none';\n",
              "\n",
              "        async function convertToInteractive(key) {\n",
              "          const element = document.querySelector('#df-c853ca26-5277-4b69-b424-b1f6bf07ef33');\n",
              "          const dataTable =\n",
              "            await google.colab.kernel.invokeFunction('convertToInteractive',\n",
              "                                                     [key], {});\n",
              "          if (!dataTable) return;\n",
              "\n",
              "          const docLinkHtml = 'Like what you see? Visit the ' +\n",
              "            '<a target=\"_blank\" href=https://colab.research.google.com/notebooks/data_table.ipynb>data table notebook</a>'\n",
              "            + ' to learn more about interactive tables.';\n",
              "          element.innerHTML = '';\n",
              "          dataTable['output_type'] = 'display_data';\n",
              "          await google.colab.output.renderOutput(dataTable, element);\n",
              "          const docLink = document.createElement('div');\n",
              "          docLink.innerHTML = docLinkHtml;\n",
              "          element.appendChild(docLink);\n",
              "        }\n",
              "      </script>\n",
              "    </div>\n",
              "  </div>\n"
            ]
          },
          "metadata": {},
          "execution_count": 29
        }
      ],
      "source": [
        "dft2.head()"
      ]
    },
    {
      "cell_type": "code",
      "execution_count": null,
      "metadata": {
        "colab": {
          "base_uri": "https://localhost:8080/",
          "height": 644
        },
        "id": "BWfNWiLp8FYZ",
        "outputId": "6b5c5c89-d253-4fca-909f-7b21a1110f92"
      },
      "outputs": [
        {
          "output_type": "display_data",
          "data": {
            "text/plain": [
              "<Figure size 640x480 with 1 Axes>"
            ],
            "image/png": "[encoded data removed]"
          },
          "metadata": {}
        }
      ],
      "source": [
        "# Get the counts of each label in the training set\n",
        "label_counts = dft['label'].value_counts()\n",
        "\n",
        "# Create a bar chart of the label counts\n",
        "plt.bar(label_counts.index, label_counts.values)\n",
        "\n",
        "# Add labels and title\n",
        "plt.xlabel('Label')\n",
        "plt.ylabel('Count')\n",
        "plt.title('Number of Instances of Each Label in the Training Set')\n",
        "plt.xticks(rotation=90)\n",
        "# Show the plot\n",
        "plt.show()\n"
      ]
    },
    {
      "cell_type": "code",
      "execution_count": null,
      "metadata": {
        "id": "MEtlID395XZU"
      },
      "outputs": [],
      "source": [
        "lemmatizer = WordNetLemmatizer()\n",
        "\n",
        "def get_wordnet_pos(word):\n",
        "    tag = nltk.pos_tag([word])[0][1][0].upper()\n",
        "    tag_dict = {\"J\": wordnet.ADJ,\n",
        "                \"N\": wordnet.NOUN,\n",
        "                \"V\": wordnet.VERB,\n",
        "                \"R\": wordnet.ADV}\n",
        "    return tag_dict.get(tag, wordnet.NOUN)\n",
        "\n",
        "def extract_word_span(tagged_in_context):\n",
        "    bos_index = tagged_in_context.find(\"<BOS>\") + len(\"<BOS>\")\n",
        "    eos_index = tagged_in_context.find(\"<EOS>\")\n",
        "    word_span = tagged_in_context[bos_index:eos_index].strip()\n",
        "    return word_span\n",
        "\n",
        "def preprocess_text(text):\n",
        "    words = word_tokenize(text)\n",
        "    words = [word.lower() for word in words if word.isalpha()]\n",
        "    words = [lemmatizer.lemmatize(w, get_wordnet_pos(w)) for w in words]\n",
        "    return \" \".join(words)\n",
        "\n",
        "# Apply the extraction function\n",
        "dft[\"tagged_in_context\"] = dft[\"tagged_in_context\"].apply(extract_word_span)\n",
        "dft2[\"tagged_in_context\"] = dft2[\"tagged_in_context\"].apply(extract_word_span)\n",
        "\n",
        "# Apply the preprocessing function\n",
        "dft[\"tagged_in_context\"] = dft[\"tagged_in_context\"].apply(preprocess_text)\n",
        "dft2[\"tagged_in_context\"] = dft2[\"tagged_in_context\"].apply(preprocess_text)\n",
        "\n",
        "# Filter the dataframes to remove 'not_propaganda' entries\n",
        "dft = dft[dft[\"label\"] != \"not_propaganda\"]\n",
        "dft2 = dft2[dft2[\"label\"] != \"not_propaganda\"]\n"
      ]
    },
    {
      "cell_type": "code",
      "execution_count": null,
      "metadata": {
        "colab": {
          "base_uri": "https://localhost:8080/",
          "height": 363
        },
        "id": "Y3llPQ6C5y9F",
        "outputId": "8e20f7da-f92a-4328-9540-af4d857c6225"
      },
      "outputs": [
        {
          "output_type": "execute_result",
          "data": {
            "text/plain": [
              "                        label  \\\n",
              "2                 flag_waving   \n",
              "5             loaded_language   \n",
              "8                       doubt   \n",
              "10      name_calling,labeling   \n",
              "12   appeal_to_fear_prejudice   \n",
              "14                 repetition   \n",
              "18                      doubt   \n",
              "19  causal_oversimplification   \n",
              "20                      doubt   \n",
              "21            loaded_language   \n",
              "\n",
              "                                    tagged_in_context  \n",
              "2                                     american people  \n",
              "5                                          annihilate  \n",
              "8                                            evidence  \n",
              "10                                    hateful conduct  \n",
              "12  point to iran s position itself for more aggre...  \n",
              "14                                               more  \n",
              "18        but who authorize this strategic commitment  \n",
              "19  the only reason why there be general interest ...  \n",
              "20       we must ask ourselves why this hasn t happen  \n",
              "21                                             sneaky  "
            ],
            "text/html": [
              "\n",
              "\n",
              "  <div id=\"df-d82b0c76-e2d0-4234-9e7e-83afd7126cf3\">\n",
              "    <div class=\"colab-df-container\">\n",
              "      <div>\n",
              "<style scoped>\n",
              "    .dataframe tbody tr th:only-of-type {\n",
              "        vertical-align: middle;\n",
              "    }\n",
              "\n",
              "    .dataframe tbody tr th {\n",
              "        vertical-align: top;\n",
              "    }\n",
              "\n",
              "    .dataframe thead th {\n",
              "        text-align: right;\n",
              "    }\n",
              "</style>\n",
              "<table border=\"1\" class=\"dataframe\">\n",
              "  <thead>\n",
              "    <tr style=\"text-align: right;\">\n",
              "      <th></th>\n",
              "      <th>label</th>\n",
              "      <th>tagged_in_context</th>\n",
              "    </tr>\n",
              "  </thead>\n",
              "  <tbody>\n",
              "    <tr>\n",
              "      <th>2</th>\n",
              "      <td>flag_waving</td>\n",
              "      <td>american people</td>\n",
              "    </tr>\n",
              "    <tr>\n",
              "      <th>5</th>\n",
              "      <td>loaded_language</td>\n",
              "      <td>annihilate</td>\n",
              "    </tr>\n",
              "    <tr>\n",
              "      <th>8</th>\n",
              "      <td>doubt</td>\n",
              "      <td>evidence</td>\n",
              "    </tr>\n",
              "    <tr>\n",
              "      <th>10</th>\n",
              "      <td>name_calling,labeling</td>\n",
              "      <td>hateful conduct</td>\n",
              "    </tr>\n",
              "    <tr>\n",
              "      <th>12</th>\n",
              "      <td>appeal_to_fear_prejudice</td>\n",
              "      <td>point to iran s position itself for more aggre...</td>\n",
              "    </tr>\n",
              "    <tr>\n",
              "      <th>14</th>\n",
              "      <td>repetition</td>\n",
              "      <td>more</td>\n",
              "    </tr>\n",
              "    <tr>\n",
              "      <th>18</th>\n",
              "      <td>doubt</td>\n",
              "      <td>but who authorize this strategic commitment</td>\n",
              "    </tr>\n",
              "    <tr>\n",
              "      <th>19</th>\n",
              "      <td>causal_oversimplification</td>\n",
              "      <td>the only reason why there be general interest ...</td>\n",
              "    </tr>\n",
              "    <tr>\n",
              "      <th>20</th>\n",
              "      <td>doubt</td>\n",
              "      <td>we must ask ourselves why this hasn t happen</td>\n",
              "    </tr>\n",
              "    <tr>\n",
              "      <th>21</th>\n",
              "      <td>loaded_language</td>\n",
              "      <td>sneaky</td>\n",
              "    </tr>\n",
              "  </tbody>\n",
              "</table>\n",
              "</div>\n",
              "      <button class=\"colab-df-convert\" onclick=\"convertToInteractive('df-d82b0c76-e2d0-4234-9e7e-83afd7126cf3')\"\n",
              "              title=\"Convert this dataframe to an interactive table.\"\n",
              "              style=\"display:none;\">\n",
              "\n",
              "  <svg xmlns=\"http://www.w3.org/2000/svg\" height=\"24px\"viewBox=\"0 0 24 24\"\n",
              "       width=\"24px\">\n",
              "    <path d=\"M0 0h24v24H0V0z\" fill=\"none\"/>\n",
              "    <path d=\"M18.56 5.44l.94 2.06.94-2.06 2.06-.94-2.06-.94-.94-2.06-.94 2.06-2.06.94zm-11 1L8.5 8.5l.94-2.06 2.06-.94-2.06-.94L8.5 2.5l-.94 2.06-2.06.94zm10 10l.94 2.06.94-2.06 2.06-.94-2.06-.94-.94-2.06-.94 2.06-2.06.94z\"/><path d=\"M17.41 7.96l-1.37-1.37c-.4-.4-.92-.59-1.43-.59-.52 0-1.04.2-1.43.59L10.3 9.45l-7.72 7.72c-.78.78-.78 2.05 0 2.83L4 21.41c.39.39.9.59 1.41.59.51 0 1.02-.2 1.41-.59l7.78-7.78 2.81-2.81c.8-.78.8-2.07 0-2.86zM5.41 20L4 18.59l7.72-7.72 1.47 1.35L5.41 20z\"/>\n",
              "  </svg>\n",
              "      </button>\n",
              "\n",
              "\n",
              "\n",
              "    <div id=\"df-1ffd3ef1-470c-4112-affc-89ab0c81ecfd\">\n",
              "      <button class=\"colab-df-quickchart\" onclick=\"quickchart('df-1ffd3ef1-470c-4112-affc-89ab0c81ecfd')\"\n",
              "              title=\"Suggest charts.\"\n",
              "              style=\"display:none;\">\n",
              "\n",
              "<svg xmlns=\"http://www.w3.org/2000/svg\" height=\"24px\"viewBox=\"0 0 24 24\"\n",
              "     width=\"24px\">\n",
              "    <g>\n",
              "        <path d=\"M19 3H5c-1.1 0-2 .9-2 2v14c0 1.1.9 2 2 2h14c1.1 0 2-.9 2-2V5c0-1.1-.9-2-2-2zM9 17H7v-7h2v7zm4 0h-2V7h2v10zm4 0h-2v-4h2v4z\"/>\n",
              "    </g>\n",
              "</svg>\n",
              "      </button>\n",
              "    </div>\n",
              "\n",
              "<style>\n",
              "  .colab-df-quickchart {\n",
              "    background-color: #E8F0FE;\n",
              "    border: none;\n",
              "    border-radius: 50%;\n",
              "    cursor: pointer;\n",
              "    display: none;\n",
              "    fill: #1967D2;\n",
              "    height: 32px;\n",
              "    padding: 0 0 0 0;\n",
              "    width: 32px;\n",
              "  }\n",
              "\n",
              "  .colab-df-quickchart:hover {\n",
              "    background-color: #E2EBFA;\n",
              "    box-shadow: 0px 1px 2px rgba(60, 64, 67, 0.3), 0px 1px 3px 1px rgba(60, 64, 67, 0.15);\n",
              "    fill: #174EA6;\n",
              "  }\n",
              "\n",
              "  [theme=dark] .colab-df-quickchart {\n",
              "    background-color: #3B4455;\n",
              "    fill: #D2E3FC;\n",
              "  }\n",
              "\n",
              "  [theme=dark] .colab-df-quickchart:hover {\n",
              "    background-color: #434B5C;\n",
              "    box-shadow: 0px 1px 3px 1px rgba(0, 0, 0, 0.15);\n",
              "    filter: drop-shadow(0px 1px 2px rgba(0, 0, 0, 0.3));\n",
              "    fill: #FFFFFF;\n",
              "  }\n",
              "</style>\n",
              "\n",
              "    <script>\n",
              "      async function quickchart(key) {\n",
              "        const containerElement = document.querySelector('#' + key);\n",
              "        const charts = await google.colab.kernel.invokeFunction(\n",
              "            'suggestCharts', [key], {});\n",
              "      }\n",
              "    </script>\n",
              "\n",
              "      <script>\n",
              "\n",
              "function displayQuickchartButton(domScope) {\n",
              "  let quickchartButtonEl =\n",
              "    domScope.querySelector('#df-1ffd3ef1-470c-4112-affc-89ab0c81ecfd button.colab-df-quickchart');\n",
              "  quickchartButtonEl.style.display =\n",
              "    google.colab.kernel.accessAllowed ? 'block' : 'none';\n",
              "}\n",
              "\n",
              "        displayQuickchartButton(document);\n",
              "      </script>\n",
              "      <style>\n",
              "    .colab-df-container {\n",
              "      display:flex;\n",
              "      flex-wrap:wrap;\n",
              "      gap: 12px;\n",
              "    }\n",
              "\n",
              "    .colab-df-convert {\n",
              "      background-color: #E8F0FE;\n",
              "      border: none;\n",
              "      border-radius: 50%;\n",
              "      cursor: pointer;\n",
              "      display: none;\n",
              "      fill: #1967D2;\n",
              "      height: 32px;\n",
              "      padding: 0 0 0 0;\n",
              "      width: 32px;\n",
              "    }\n",
              "\n",
              "    .colab-df-convert:hover {\n",
              "      background-color: #E2EBFA;\n",
              "      box-shadow: 0px 1px 2px rgba(60, 64, 67, 0.3), 0px 1px 3px 1px rgba(60, 64, 67, 0.15);\n",
              "      fill: #174EA6;\n",
              "    }\n",
              "\n",
              "    [theme=dark] .colab-df-convert {\n",
              "      background-color: #3B4455;\n",
              "      fill: #D2E3FC;\n",
              "    }\n",
              "\n",
              "    [theme=dark] .colab-df-convert:hover {\n",
              "      background-color: #434B5C;\n",
              "      box-shadow: 0px 1px 3px 1px rgba(0, 0, 0, 0.15);\n",
              "      filter: drop-shadow(0px 1px 2px rgba(0, 0, 0, 0.3));\n",
              "      fill: #FFFFFF;\n",
              "    }\n",
              "  </style>\n",
              "\n",
              "      <script>\n",
              "        const buttonEl =\n",
              "          document.querySelector('#df-d82b0c76-e2d0-4234-9e7e-83afd7126cf3 button.colab-df-convert');\n",
              "        buttonEl.style.display =\n",
              "          google.colab.kernel.accessAllowed ? 'block' : 'none';\n",
              "\n",
              "        async function convertToInteractive(key) {\n",
              "          const element = document.querySelector('#df-d82b0c76-e2d0-4234-9e7e-83afd7126cf3');\n",
              "          const dataTable =\n",
              "            await google.colab.kernel.invokeFunction('convertToInteractive',\n",
              "                                                     [key], {});\n",
              "          if (!dataTable) return;\n",
              "\n",
              "          const docLinkHtml = 'Like what you see? Visit the ' +\n",
              "            '<a target=\"_blank\" href=https://colab.research.google.com/notebooks/data_table.ipynb>data table notebook</a>'\n",
              "            + ' to learn more about interactive tables.';\n",
              "          element.innerHTML = '';\n",
              "          dataTable['output_type'] = 'display_data';\n",
              "          await google.colab.output.renderOutput(dataTable, element);\n",
              "          const docLink = document.createElement('div');\n",
              "          docLink.innerHTML = docLinkHtml;\n",
              "          element.appendChild(docLink);\n",
              "        }\n",
              "      </script>\n",
              "    </div>\n",
              "  </div>\n"
            ]
          },
          "metadata": {},
          "execution_count": 32
        }
      ],
      "source": [
        "dft.head(10)"
      ]
    },
    {
      "cell_type": "code",
      "execution_count": null,
      "metadata": {
        "colab": {
          "base_uri": "https://localhost:8080/",
          "height": 206
        },
        "id": "IMXCHgiejuGX",
        "outputId": "7250985a-1aa0-4e6c-dd76-bb3f6002f434"
      },
      "outputs": [
        {
          "output_type": "execute_result",
          "data": {
            "text/plain": [
              "                       label  \\\n",
              "1  causal_oversimplification   \n",
              "2   appeal_to_fear_prejudice   \n",
              "4                 repetition   \n",
              "5      name_calling,labeling   \n",
              "6            loaded_language   \n",
              "\n",
              "                                   tagged_in_context  \n",
              "1  the country would not last long without an out...  \n",
              "2  get earl warren and richard russel to join the...  \n",
              "4                                            infidel  \n",
              "5                                  the gay lifestyle  \n",
              "6                                devastate community  "
            ],
            "text/html": [
              "\n",
              "\n",
              "  <div id=\"df-1051c05a-12b6-440b-9c76-7fc993772957\">\n",
              "    <div class=\"colab-df-container\">\n",
              "      <div>\n",
              "<style scoped>\n",
              "    .dataframe tbody tr th:only-of-type {\n",
              "        vertical-align: middle;\n",
              "    }\n",
              "\n",
              "    .dataframe tbody tr th {\n",
              "        vertical-align: top;\n",
              "    }\n",
              "\n",
              "    .dataframe thead th {\n",
              "        text-align: right;\n",
              "    }\n",
              "</style>\n",
              "<table border=\"1\" class=\"dataframe\">\n",
              "  <thead>\n",
              "    <tr style=\"text-align: right;\">\n",
              "      <th></th>\n",
              "      <th>label</th>\n",
              "      <th>tagged_in_context</th>\n",
              "    </tr>\n",
              "  </thead>\n",
              "  <tbody>\n",
              "    <tr>\n",
              "      <th>1</th>\n",
              "      <td>causal_oversimplification</td>\n",
              "      <td>the country would not last long without an out...</td>\n",
              "    </tr>\n",
              "    <tr>\n",
              "      <th>2</th>\n",
              "      <td>appeal_to_fear_prejudice</td>\n",
              "      <td>get earl warren and richard russel to join the...</td>\n",
              "    </tr>\n",
              "    <tr>\n",
              "      <th>4</th>\n",
              "      <td>repetition</td>\n",
              "      <td>infidel</td>\n",
              "    </tr>\n",
              "    <tr>\n",
              "      <th>5</th>\n",
              "      <td>name_calling,labeling</td>\n",
              "      <td>the gay lifestyle</td>\n",
              "    </tr>\n",
              "    <tr>\n",
              "      <th>6</th>\n",
              "      <td>loaded_language</td>\n",
              "      <td>devastate community</td>\n",
              "    </tr>\n",
              "  </tbody>\n",
              "</table>\n",
              "</div>\n",
              "      <button class=\"colab-df-convert\" onclick=\"convertToInteractive('df-1051c05a-12b6-440b-9c76-7fc993772957')\"\n",
              "              title=\"Convert this dataframe to an interactive table.\"\n",
              "              style=\"display:none;\">\n",
              "\n",
              "  <svg xmlns=\"http://www.w3.org/2000/svg\" height=\"24px\"viewBox=\"0 0 24 24\"\n",
              "       width=\"24px\">\n",
              "    <path d=\"M0 0h24v24H0V0z\" fill=\"none\"/>\n",
              "    <path d=\"M18.56 5.44l.94 2.06.94-2.06 2.06-.94-2.06-.94-.94-2.06-.94 2.06-2.06.94zm-11 1L8.5 8.5l.94-2.06 2.06-.94-2.06-.94L8.5 2.5l-.94 2.06-2.06.94zm10 10l.94 2.06.94-2.06 2.06-.94-2.06-.94-.94-2.06-.94 2.06-2.06.94z\"/><path d=\"M17.41 7.96l-1.37-1.37c-.4-.4-.92-.59-1.43-.59-.52 0-1.04.2-1.43.59L10.3 9.45l-7.72 7.72c-.78.78-.78 2.05 0 2.83L4 21.41c.39.39.9.59 1.41.59.51 0 1.02-.2 1.41-.59l7.78-7.78 2.81-2.81c.8-.78.8-2.07 0-2.86zM5.41 20L4 18.59l7.72-7.72 1.47 1.35L5.41 20z\"/>\n",
              "  </svg>\n",
              "      </button>\n",
              "\n",
              "\n",
              "\n",
              "    <div id=\"df-2255946e-cc25-4f65-bdc2-d92fbcf58941\">\n",
              "      <button class=\"colab-df-quickchart\" onclick=\"quickchart('df-2255946e-cc25-4f65-bdc2-d92fbcf58941')\"\n",
              "              title=\"Suggest charts.\"\n",
              "              style=\"display:none;\">\n",
              "\n",
              "<svg xmlns=\"http://www.w3.org/2000/svg\" height=\"24px\"viewBox=\"0 0 24 24\"\n",
              "     width=\"24px\">\n",
              "    <g>\n",
              "        <path d=\"M19 3H5c-1.1 0-2 .9-2 2v14c0 1.1.9 2 2 2h14c1.1 0 2-.9 2-2V5c0-1.1-.9-2-2-2zM9 17H7v-7h2v7zm4 0h-2V7h2v10zm4 0h-2v-4h2v4z\"/>\n",
              "    </g>\n",
              "</svg>\n",
              "      </button>\n",
              "    </div>\n",
              "\n",
              "<style>\n",
              "  .colab-df-quickchart {\n",
              "    background-color: #E8F0FE;\n",
              "    border: none;\n",
              "    border-radius: 50%;\n",
              "    cursor: pointer;\n",
              "    display: none;\n",
              "    fill: #1967D2;\n",
              "    height: 32px;\n",
              "    padding: 0 0 0 0;\n",
              "    width: 32px;\n",
              "  }\n",
              "\n",
              "  .colab-df-quickchart:hover {\n",
              "    background-color: #E2EBFA;\n",
              "    box-shadow: 0px 1px 2px rgba(60, 64, 67, 0.3), 0px 1px 3px 1px rgba(60, 64, 67, 0.15);\n",
              "    fill: #174EA6;\n",
              "  }\n",
              "\n",
              "  [theme=dark] .colab-df-quickchart {\n",
              "    background-color: #3B4455;\n",
              "    fill: #D2E3FC;\n",
              "  }\n",
              "\n",
              "  [theme=dark] .colab-df-quickchart:hover {\n",
              "    background-color: #434B5C;\n",
              "    box-shadow: 0px 1px 3px 1px rgba(0, 0, 0, 0.15);\n",
              "    filter: drop-shadow(0px 1px 2px rgba(0, 0, 0, 0.3));\n",
              "    fill: #FFFFFF;\n",
              "  }\n",
              "</style>\n",
              "\n",
              "    <script>\n",
              "      async function quickchart(key) {\n",
              "        const containerElement = document.querySelector('#' + key);\n",
              "        const charts = await google.colab.kernel.invokeFunction(\n",
              "            'suggestCharts', [key], {});\n",
              "      }\n",
              "    </script>\n",
              "\n",
              "      <script>\n",
              "\n",
              "function displayQuickchartButton(domScope) {\n",
              "  let quickchartButtonEl =\n",
              "    domScope.querySelector('#df-2255946e-cc25-4f65-bdc2-d92fbcf58941 button.colab-df-quickchart');\n",
              "  quickchartButtonEl.style.display =\n",
              "    google.colab.kernel.accessAllowed ? 'block' : 'none';\n",
              "}\n",
              "\n",
              "        displayQuickchartButton(document);\n",
              "      </script>\n",
              "      <style>\n",
              "    .colab-df-container {\n",
              "      display:flex;\n",
              "      flex-wrap:wrap;\n",
              "      gap: 12px;\n",
              "    }\n",
              "\n",
              "    .colab-df-convert {\n",
              "      background-color: #E8F0FE;\n",
              "      border: none;\n",
              "      border-radius: 50%;\n",
              "      cursor: pointer;\n",
              "      display: none;\n",
              "      fill: #1967D2;\n",
              "      height: 32px;\n",
              "      padding: 0 0 0 0;\n",
              "      width: 32px;\n",
              "    }\n",
              "\n",
              "    .colab-df-convert:hover {\n",
              "      background-color: #E2EBFA;\n",
              "      box-shadow: 0px 1px 2px rgba(60, 64, 67, 0.3), 0px 1px 3px 1px rgba(60, 64, 67, 0.15);\n",
              "      fill: #174EA6;\n",
              "    }\n",
              "\n",
              "    [theme=dark] .colab-df-convert {\n",
              "      background-color: #3B4455;\n",
              "      fill: #D2E3FC;\n",
              "    }\n",
              "\n",
              "    [theme=dark] .colab-df-convert:hover {\n",
              "      background-color: #434B5C;\n",
              "      box-shadow: 0px 1px 3px 1px rgba(0, 0, 0, 0.15);\n",
              "      filter: drop-shadow(0px 1px 2px rgba(0, 0, 0, 0.3));\n",
              "      fill: #FFFFFF;\n",
              "    }\n",
              "  </style>\n",
              "\n",
              "      <script>\n",
              "        const buttonEl =\n",
              "          document.querySelector('#df-1051c05a-12b6-440b-9c76-7fc993772957 button.colab-df-convert');\n",
              "        buttonEl.style.display =\n",
              "          google.colab.kernel.accessAllowed ? 'block' : 'none';\n",
              "\n",
              "        async function convertToInteractive(key) {\n",
              "          const element = document.querySelector('#df-1051c05a-12b6-440b-9c76-7fc993772957');\n",
              "          const dataTable =\n",
              "            await google.colab.kernel.invokeFunction('convertToInteractive',\n",
              "                                                     [key], {});\n",
              "          if (!dataTable) return;\n",
              "\n",
              "          const docLinkHtml = 'Like what you see? Visit the ' +\n",
              "            '<a target=\"_blank\" href=https://colab.research.google.com/notebooks/data_table.ipynb>data table notebook</a>'\n",
              "            + ' to learn more about interactive tables.';\n",
              "          element.innerHTML = '';\n",
              "          dataTable['output_type'] = 'display_data';\n",
              "          await google.colab.output.renderOutput(dataTable, element);\n",
              "          const docLink = document.createElement('div');\n",
              "          docLink.innerHTML = docLinkHtml;\n",
              "          element.appendChild(docLink);\n",
              "        }\n",
              "      </script>\n",
              "    </div>\n",
              "  </div>\n"
            ]
          },
          "metadata": {},
          "execution_count": 33
        }
      ],
      "source": [
        "dft2.head()"
      ]
    },
    {
      "cell_type": "code",
      "execution_count": null,
      "metadata": {
        "id": "jhibVmmYZJOl"
      },
      "outputs": [],
      "source": [
        "# Create copies of dft and dft2 named dftcopy and dftcopy2\n",
        "dftcopy = dft.copy()\n",
        "dftcopy2 = dft2.copy()\n"
      ]
    },
    {
      "cell_type": "markdown",
      "metadata": {
        "id": "1Lbe6wjz7_F5"
      },
      "source": [
        "## Approach 1: GRU Ensemble"
      ]
    },
    {
      "cell_type": "code",
      "execution_count": null,
      "metadata": {
        "colab": {
          "base_uri": "https://localhost:8080/",
          "height": 206
        },
        "id": "cijovqymgYfN",
        "outputId": "0ccab998-56f8-4cdd-c989-9243434dcfa9"
      },
      "outputs": [
        {
          "output_type": "execute_result",
          "data": {
            "text/plain": [
              "                       label  \\\n",
              "2                flag_waving   \n",
              "5            loaded_language   \n",
              "8                      doubt   \n",
              "10     name_calling,labeling   \n",
              "12  appeal_to_fear_prejudice   \n",
              "\n",
              "                                    tagged_in_context  \n",
              "2                                     american people  \n",
              "5                                          annihilate  \n",
              "8                                            evidence  \n",
              "10                                    hateful conduct  \n",
              "12  point to iran s position itself for more aggre...  "
            ],
            "text/html": [
              "\n",
              "\n",
              "  <div id=\"df-8902c1cd-35b7-431f-a8e7-fe6ea5e167d6\">\n",
              "    <div class=\"colab-df-container\">\n",
              "      <div>\n",
              "<style scoped>\n",
              "    .dataframe tbody tr th:only-of-type {\n",
              "        vertical-align: middle;\n",
              "    }\n",
              "\n",
              "    .dataframe tbody tr th {\n",
              "        vertical-align: top;\n",
              "    }\n",
              "\n",
              "    .dataframe thead th {\n",
              "        text-align: right;\n",
              "    }\n",
              "</style>\n",
              "<table border=\"1\" class=\"dataframe\">\n",
              "  <thead>\n",
              "    <tr style=\"text-align: right;\">\n",
              "      <th></th>\n",
              "      <th>label</th>\n",
              "      <th>tagged_in_context</th>\n",
              "    </tr>\n",
              "  </thead>\n",
              "  <tbody>\n",
              "    <tr>\n",
              "      <th>2</th>\n",
              "      <td>flag_waving</td>\n",
              "      <td>american people</td>\n",
              "    </tr>\n",
              "    <tr>\n",
              "      <th>5</th>\n",
              "      <td>loaded_language</td>\n",
              "      <td>annihilate</td>\n",
              "    </tr>\n",
              "    <tr>\n",
              "      <th>8</th>\n",
              "      <td>doubt</td>\n",
              "      <td>evidence</td>\n",
              "    </tr>\n",
              "    <tr>\n",
              "      <th>10</th>\n",
              "      <td>name_calling,labeling</td>\n",
              "      <td>hateful conduct</td>\n",
              "    </tr>\n",
              "    <tr>\n",
              "      <th>12</th>\n",
              "      <td>appeal_to_fear_prejudice</td>\n",
              "      <td>point to iran s position itself for more aggre...</td>\n",
              "    </tr>\n",
              "  </tbody>\n",
              "</table>\n",
              "</div>\n",
              "      <button class=\"colab-df-convert\" onclick=\"convertToInteractive('df-8902c1cd-35b7-431f-a8e7-fe6ea5e167d6')\"\n",
              "              title=\"Convert this dataframe to an interactive table.\"\n",
              "              style=\"display:none;\">\n",
              "\n",
              "  <svg xmlns=\"http://www.w3.org/2000/svg\" height=\"24px\"viewBox=\"0 0 24 24\"\n",
              "       width=\"24px\">\n",
              "    <path d=\"M0 0h24v24H0V0z\" fill=\"none\"/>\n",
              "    <path d=\"M18.56 5.44l.94 2.06.94-2.06 2.06-.94-2.06-.94-.94-2.06-.94 2.06-2.06.94zm-11 1L8.5 8.5l.94-2.06 2.06-.94-2.06-.94L8.5 2.5l-.94 2.06-2.06.94zm10 10l.94 2.06.94-2.06 2.06-.94-2.06-.94-.94-2.06-.94 2.06-2.06.94z\"/><path d=\"M17.41 7.96l-1.37-1.37c-.4-.4-.92-.59-1.43-.59-.52 0-1.04.2-1.43.59L10.3 9.45l-7.72 7.72c-.78.78-.78 2.05 0 2.83L4 21.41c.39.39.9.59 1.41.59.51 0 1.02-.2 1.41-.59l7.78-7.78 2.81-2.81c.8-.78.8-2.07 0-2.86zM5.41 20L4 18.59l7.72-7.72 1.47 1.35L5.41 20z\"/>\n",
              "  </svg>\n",
              "      </button>\n",
              "\n",
              "\n",
              "\n",
              "    <div id=\"df-9cfdcf15-5bce-4f91-a6df-6232140cba04\">\n",
              "      <button class=\"colab-df-quickchart\" onclick=\"quickchart('df-9cfdcf15-5bce-4f91-a6df-6232140cba04')\"\n",
              "              title=\"Suggest charts.\"\n",
              "              style=\"display:none;\">\n",
              "\n",
              "<svg xmlns=\"http://www.w3.org/2000/svg\" height=\"24px\"viewBox=\"0 0 24 24\"\n",
              "     width=\"24px\">\n",
              "    <g>\n",
              "        <path d=\"M19 3H5c-1.1 0-2 .9-2 2v14c0 1.1.9 2 2 2h14c1.1 0 2-.9 2-2V5c0-1.1-.9-2-2-2zM9 17H7v-7h2v7zm4 0h-2V7h2v10zm4 0h-2v-4h2v4z\"/>\n",
              "    </g>\n",
              "</svg>\n",
              "      </button>\n",
              "    </div>\n",
              "\n",
              "<style>\n",
              "  .colab-df-quickchart {\n",
              "    background-color: #E8F0FE;\n",
              "    border: none;\n",
              "    border-radius: 50%;\n",
              "    cursor: pointer;\n",
              "    display: none;\n",
              "    fill: #1967D2;\n",
              "    height: 32px;\n",
              "    padding: 0 0 0 0;\n",
              "    width: 32px;\n",
              "  }\n",
              "\n",
              "  .colab-df-quickchart:hover {\n",
              "    background-color: #E2EBFA;\n",
              "    box-shadow: 0px 1px 2px rgba(60, 64, 67, 0.3), 0px 1px 3px 1px rgba(60, 64, 67, 0.15);\n",
              "    fill: #174EA6;\n",
              "  }\n",
              "\n",
              "  [theme=dark] .colab-df-quickchart {\n",
              "    background-color: #3B4455;\n",
              "    fill: #D2E3FC;\n",
              "  }\n",
              "\n",
              "  [theme=dark] .colab-df-quickchart:hover {\n",
              "    background-color: #434B5C;\n",
              "    box-shadow: 0px 1px 3px 1px rgba(0, 0, 0, 0.15);\n",
              "    filter: drop-shadow(0px 1px 2px rgba(0, 0, 0, 0.3));\n",
              "    fill: #FFFFFF;\n",
              "  }\n",
              "</style>\n",
              "\n",
              "    <script>\n",
              "      async function quickchart(key) {\n",
              "        const containerElement = document.querySelector('#' + key);\n",
              "        const charts = await google.colab.kernel.invokeFunction(\n",
              "            'suggestCharts', [key], {});\n",
              "      }\n",
              "    </script>\n",
              "\n",
              "      <script>\n",
              "\n",
              "function displayQuickchartButton(domScope) {\n",
              "  let quickchartButtonEl =\n",
              "    domScope.querySelector('#df-9cfdcf15-5bce-4f91-a6df-6232140cba04 button.colab-df-quickchart');\n",
              "  quickchartButtonEl.style.display =\n",
              "    google.colab.kernel.accessAllowed ? 'block' : 'none';\n",
              "}\n",
              "\n",
              "        displayQuickchartButton(document);\n",
              "      </script>\n",
              "      <style>\n",
              "    .colab-df-container {\n",
              "      display:flex;\n",
              "      flex-wrap:wrap;\n",
              "      gap: 12px;\n",
              "    }\n",
              "\n",
              "    .colab-df-convert {\n",
              "      background-color: #E8F0FE;\n",
              "      border: none;\n",
              "      border-radius: 50%;\n",
              "      cursor: pointer;\n",
              "      display: none;\n",
              "      fill: #1967D2;\n",
              "      height: 32px;\n",
              "      padding: 0 0 0 0;\n",
              "      width: 32px;\n",
              "    }\n",
              "\n",
              "    .colab-df-convert:hover {\n",
              "      background-color: #E2EBFA;\n",
              "      box-shadow: 0px 1px 2px rgba(60, 64, 67, 0.3), 0px 1px 3px 1px rgba(60, 64, 67, 0.15);\n",
              "      fill: #174EA6;\n",
              "    }\n",
              "\n",
              "    [theme=dark] .colab-df-convert {\n",
              "      background-color: #3B4455;\n",
              "      fill: #D2E3FC;\n",
              "    }\n",
              "\n",
              "    [theme=dark] .colab-df-convert:hover {\n",
              "      background-color: #434B5C;\n",
              "      box-shadow: 0px 1px 3px 1px rgba(0, 0, 0, 0.15);\n",
              "      filter: drop-shadow(0px 1px 2px rgba(0, 0, 0, 0.3));\n",
              "      fill: #FFFFFF;\n",
              "    }\n",
              "  </style>\n",
              "\n",
              "      <script>\n",
              "        const buttonEl =\n",
              "          document.querySelector('#df-8902c1cd-35b7-431f-a8e7-fe6ea5e167d6 button.colab-df-convert');\n",
              "        buttonEl.style.display =\n",
              "          google.colab.kernel.accessAllowed ? 'block' : 'none';\n",
              "\n",
              "        async function convertToInteractive(key) {\n",
              "          const element = document.querySelector('#df-8902c1cd-35b7-431f-a8e7-fe6ea5e167d6');\n",
              "          const dataTable =\n",
              "            await google.colab.kernel.invokeFunction('convertToInteractive',\n",
              "                                                     [key], {});\n",
              "          if (!dataTable) return;\n",
              "\n",
              "          const docLinkHtml = 'Like what you see? Visit the ' +\n",
              "            '<a target=\"_blank\" href=https://colab.research.google.com/notebooks/data_table.ipynb>data table notebook</a>'\n",
              "            + ' to learn more about interactive tables.';\n",
              "          element.innerHTML = '';\n",
              "          dataTable['output_type'] = 'display_data';\n",
              "          await google.colab.output.renderOutput(dataTable, element);\n",
              "          const docLink = document.createElement('div');\n",
              "          docLink.innerHTML = docLinkHtml;\n",
              "          element.appendChild(docLink);\n",
              "        }\n",
              "      </script>\n",
              "    </div>\n",
              "  </div>\n"
            ]
          },
          "metadata": {},
          "execution_count": 35
        }
      ],
      "source": [
        "dftcopy.head()"
      ]
    },
    {
      "cell_type": "code",
      "execution_count": null,
      "metadata": {
        "colab": {
          "base_uri": "https://localhost:8080/"
        },
        "id": "9O4qJnYkjcqB",
        "outputId": "caa942ea-5f45-4ad1-b400-13f7ebe42261"
      },
      "outputs": [
        {
          "output_type": "stream",
          "name": "stdout",
          "text": [
            "['flag_waving' 'loaded_language' 'doubt' 'name_calling,labeling'\n",
            " 'appeal_to_fear_prejudice' 'repetition' 'causal_oversimplification'\n",
            " 'exaggeration,minimisation']\n"
          ]
        }
      ],
      "source": [
        "unique_labels = dftcopy['label'].unique()\n",
        "print(unique_labels)\n"
      ]
    },
    {
      "cell_type": "code",
      "execution_count": null,
      "metadata": {
        "colab": {
          "base_uri": "https://localhost:8080/"
        },
        "id": "062v4ADEzmV_",
        "outputId": "4c5aa297-ffaa-4dec-8ca2-ed9dab6cc879"
      },
      "outputs": [
        {
          "output_type": "stream",
          "name": "stdout",
          "text": [
            "['causal_oversimplification' 'appeal_to_fear_prejudice' 'repetition'\n",
            " 'name_calling,labeling' 'loaded_language' 'flag_waving' 'doubt'\n",
            " 'exaggeration,minimisation']\n"
          ]
        }
      ],
      "source": [
        "unique_labels_t = dftcopy2['label'].unique()\n",
        "print(unique_labels_t)\n"
      ]
    },
    {
      "cell_type": "code",
      "execution_count": null,
      "metadata": {
        "id": "NsrF32fJtpu-"
      },
      "outputs": [],
      "source": [
        "# Import necessary modules\n",
        "from tensorflow.keras.preprocessing.text import Tokenizer\n",
        "from tensorflow.keras.preprocessing.sequence import pad_sequences\n",
        "from tensorflow.keras.models import Sequential\n",
        "from tensorflow.keras.layers import Dense, Embedding, LSTM, SpatialDropout1D\n",
        "from sklearn.model_selection import train_test_split\n",
        "import pandas as pd\n",
        "from tensorflow.keras.callbacks import EarlyStopping"
      ]
    },
    {
      "cell_type": "code",
      "execution_count": null,
      "metadata": {
        "id": "E5btKTGvx1TJ"
      },
      "outputs": [],
      "source": [
        "# The maximum number of words to be used. (most frequent)\n",
        "MAX_NB_WORDS = 50000\n",
        "# Max number of words in each complaint.\n",
        "MAX_SEQUENCE_LENGTH = 250\n",
        "# This is fixed.\n",
        "EMBEDDING_DIM = 100\n"
      ]
    },
    {
      "cell_type": "code",
      "execution_count": null,
      "metadata": {
        "colab": {
          "base_uri": "https://localhost:8080/"
        },
        "id": "ZmmZc00dxsmo",
        "outputId": "64bf3d36-ceaf-48e7-a4ea-3a166f0f9001"
      },
      "outputs": [
        {
          "output_type": "stream",
          "name": "stdout",
          "text": [
            "Found 2841 unique tokens.\n"
          ]
        }
      ],
      "source": [
        "tokenizer = Tokenizer(num_words=MAX_NB_WORDS, filters='!\"#$%&()*+,-./:;<=>?@[\\]^_`{|}~', lower=True)\n",
        "tokenizer.fit_on_texts(dftcopy['tagged_in_context'].values)\n",
        "word_index = tokenizer.word_index\n",
        "print('Found %s unique tokens.' % len(word_index))"
      ]
    },
    {
      "cell_type": "code",
      "execution_count": null,
      "metadata": {
        "id": "NTSG9GvFxx2j"
      },
      "outputs": [],
      "source": [
        "# Convert text data into sequences\n",
        "X_train = tokenizer.texts_to_sequences(dftcopy['tagged_in_context'].values)\n",
        "X_train = pad_sequences(X_train, maxlen=MAX_SEQUENCE_LENGTH)\n",
        "\n",
        "X_test = tokenizer.texts_to_sequences(dftcopy2['tagged_in_context'].values)\n",
        "X_test = pad_sequences(X_test, maxlen=MAX_SEQUENCE_LENGTH)\n",
        "\n",
        "# Convert categorical labels to numbers\n",
        "Y_train = pd.get_dummies(dftcopy['label']).values\n",
        "Y_test = pd.get_dummies(dftcopy2['label']).values\n"
      ]
    },
    {
      "cell_type": "code",
      "execution_count": null,
      "metadata": {
        "colab": {
          "base_uri": "https://localhost:8080/"
        },
        "id": "d7GpamjpBTkW",
        "outputId": "a36ae55b-9511-41cf-896d-bc792a3172f8"
      },
      "outputs": [
        {
          "output_type": "stream",
          "name": "stdout",
          "text": [
            "Found 196916 word vectors.\n"
          ]
        }
      ],
      "source": [
        "embeddings_index = {}\n",
        "with open('glove.6B.100d.txt', encoding='utf8') as f:\n",
        "    for line in f:\n",
        "        values = line.split()\n",
        "        word = values[0]\n",
        "        coefs = np.asarray(values[1:], dtype='float32')\n",
        "        embeddings_index[word] = coefs\n",
        "\n",
        "print('Found %s word vectors.' % len(embeddings_index))\n",
        "\n",
        "# Prepare embedding matrix\n",
        "# Prepare embedding matrix\n",
        "num_words = min(MAX_NB_WORDS, len(word_index) + 1)\n",
        "embedding_matrix = np.zeros((num_words, EMBEDDING_DIM))\n",
        "for word, i in word_index.items():\n",
        "    if i >= MAX_NB_WORDS:\n",
        "        continue\n",
        "    embedding_vector = embeddings_index.get(word)\n",
        "    if embedding_vector is not None:\n",
        "        # Words not found in the embedding index will be all zeros.\n",
        "        embedding_matrix[i] = embedding_vector\n",
        "\n",
        "\n"
      ]
    },
    {
      "cell_type": "code",
      "execution_count": null,
      "metadata": {
        "id": "Ep15iO0XvVgS"
      },
      "outputs": [],
      "source": [
        "from tensorflow.keras.models import Sequential\n",
        "from tensorflow.keras.layers import Embedding, GRU, Dropout, Dense\n",
        "from tensorflow.keras.initializers import Constant\n",
        "from tensorflow.keras.callbacks import EarlyStopping\n",
        "import numpy as np\n",
        "\n",
        "# Define the models\n",
        "def create_model1():\n",
        "    model = Sequential()\n",
        "    model.add(Embedding(num_words,\n",
        "                        EMBEDDING_DIM,\n",
        "                        embeddings_initializer=Constant(embedding_matrix),\n",
        "                        input_length=MAX_SEQUENCE_LENGTH,\n",
        "                        trainable=False))\n",
        "    model.add(GRU(128, return_sequences=True))\n",
        "    model.add(GRU(64))\n",
        "    model.add(Dropout(0.5))\n",
        "    model.add(Dense(64, activation='relu'))\n",
        "    model.add(Dense(Y_train.shape[1], activation='softmax'))\n",
        "    model.compile(loss='categorical_crossentropy', optimizer='adam', metrics=['accuracy'])\n",
        "    return model\n",
        "\n",
        "def create_model2():\n",
        "    model = Sequential()\n",
        "    model.add(Embedding(num_words,\n",
        "                        EMBEDDING_DIM,\n",
        "                        embeddings_initializer=Constant(embedding_matrix),\n",
        "                        input_length=MAX_SEQUENCE_LENGTH,\n",
        "                        trainable=False))\n",
        "    model.add(GRU(64, return_sequences=True))\n",
        "    model.add(GRU(32))\n",
        "    model.add(Dropout(0.4))\n",
        "    model.add(Dense(32, activation='relu'))\n",
        "    model.add(Dense(Y_train.shape[1], activation='softmax'))\n",
        "    model.compile(loss='categorical_crossentropy', optimizer='adam', metrics=['accuracy'])\n",
        "    return model\n",
        "\n",
        "def create_model3():\n",
        "    model = Sequential()\n",
        "    model.add(Embedding(num_words,\n",
        "                        EMBEDDING_DIM,\n",
        "                        embeddings_initializer=Constant(embedding_matrix),\n",
        "                        input_length=MAX_SEQUENCE_LENGTH,\n",
        "                        trainable=False))\n",
        "    model.add(GRU(256, return_sequences=True))\n",
        "    model.add(GRU(128))\n",
        "    model.add(Dropout(0.6))\n",
        "    model.add(Dense(128, activation='relu'))\n",
        "    model.add(Dense(Y_train.shape[1], activation='softmax'))\n",
        "    model.compile(loss='categorical_crossentropy', optimizer='adam', metrics=['accuracy'])\n",
        "    return model\n",
        "\n",
        "# Instantiate and train the models\n",
        "model1 = create_model1()\n",
        "model2 = create_model2()\n",
        "model3 = create_model3()\n",
        "\n",
        "\n"
      ]
    },
    {
      "cell_type": "code",
      "execution_count": null,
      "metadata": {
        "colab": {
          "base_uri": "https://localhost:8080/"
        },
        "id": "IK0BM0J95kg5",
        "outputId": "9e176b20-237d-4b9c-81ed-dbda691f899d"
      },
      "outputs": [
        {
          "output_type": "stream",
          "name": "stdout",
          "text": [
            "Epoch 1/35\n",
            "18/18 [==============================] - 17s 151ms/step - loss: 2.0418 - accuracy: 0.1609 - val_loss: 1.9781 - val_accuracy: 0.2520\n",
            "Epoch 2/35\n",
            "18/18 [==============================] - 1s 41ms/step - loss: 1.9195 - accuracy: 0.2691 - val_loss: 1.8373 - val_accuracy: 0.3252\n",
            "Epoch 3/35\n",
            "18/18 [==============================] - 1s 40ms/step - loss: 1.7687 - accuracy: 0.3355 - val_loss: 1.6923 - val_accuracy: 0.3577\n",
            "Epoch 4/35\n",
            "18/18 [==============================] - 1s 37ms/step - loss: 1.6438 - accuracy: 0.3682 - val_loss: 1.5555 - val_accuracy: 0.4065\n",
            "Epoch 5/35\n",
            "18/18 [==============================] - 1s 40ms/step - loss: 1.5398 - accuracy: 0.4082 - val_loss: 1.4678 - val_accuracy: 0.4065\n",
            "Epoch 6/35\n",
            "18/18 [==============================] - 1s 48ms/step - loss: 1.4702 - accuracy: 0.4564 - val_loss: 1.4541 - val_accuracy: 0.4228\n",
            "Epoch 7/35\n",
            "18/18 [==============================] - 1s 52ms/step - loss: 1.4158 - accuracy: 0.4636 - val_loss: 1.3874 - val_accuracy: 0.4797\n",
            "Epoch 8/35\n",
            "18/18 [==============================] - 2s 120ms/step - loss: 1.3541 - accuracy: 0.4800 - val_loss: 1.3968 - val_accuracy: 0.4715\n",
            "Epoch 9/35\n",
            "18/18 [==============================] - 2s 94ms/step - loss: 1.2971 - accuracy: 0.5191 - val_loss: 1.3328 - val_accuracy: 0.5285\n",
            "Epoch 10/35\n",
            "18/18 [==============================] - 2s 87ms/step - loss: 1.2376 - accuracy: 0.5418 - val_loss: 1.3120 - val_accuracy: 0.5285\n",
            "Epoch 11/35\n",
            "18/18 [==============================] - 1s 50ms/step - loss: 1.1464 - accuracy: 0.5627 - val_loss: 1.3495 - val_accuracy: 0.5366\n",
            "Epoch 12/35\n",
            "18/18 [==============================] - 1s 41ms/step - loss: 1.1115 - accuracy: 0.5918 - val_loss: 1.3747 - val_accuracy: 0.4715\n",
            "Epoch 13/35\n",
            "18/18 [==============================] - 1s 52ms/step - loss: 1.0379 - accuracy: 0.6027 - val_loss: 1.3626 - val_accuracy: 0.5366\n",
            "Epoch 1/35\n",
            "18/18 [==============================] - 5s 66ms/step - loss: 2.0790 - accuracy: 0.1400 - val_loss: 2.0351 - val_accuracy: 0.2276\n",
            "Epoch 2/35\n",
            "18/18 [==============================] - 1s 31ms/step - loss: 2.0236 - accuracy: 0.2082 - val_loss: 1.9723 - val_accuracy: 0.3089\n",
            "Epoch 3/35\n",
            "18/18 [==============================] - 1s 32ms/step - loss: 1.9594 - accuracy: 0.2655 - val_loss: 1.8892 - val_accuracy: 0.3008\n",
            "Epoch 4/35\n",
            "18/18 [==============================] - 1s 31ms/step - loss: 1.8428 - accuracy: 0.3282 - val_loss: 1.7120 - val_accuracy: 0.4065\n",
            "Epoch 5/35\n",
            "18/18 [==============================] - 1s 28ms/step - loss: 1.7223 - accuracy: 0.3464 - val_loss: 1.5897 - val_accuracy: 0.3984\n",
            "Epoch 6/35\n",
            "18/18 [==============================] - 1s 33ms/step - loss: 1.6092 - accuracy: 0.3818 - val_loss: 1.5139 - val_accuracy: 0.4228\n",
            "Epoch 7/35\n",
            "18/18 [==============================] - 1s 32ms/step - loss: 1.5430 - accuracy: 0.4045 - val_loss: 1.4820 - val_accuracy: 0.4472\n",
            "Epoch 8/35\n",
            "18/18 [==============================] - 1s 32ms/step - loss: 1.4979 - accuracy: 0.4355 - val_loss: 1.4447 - val_accuracy: 0.4553\n",
            "Epoch 9/35\n",
            "18/18 [==============================] - 1s 32ms/step - loss: 1.4182 - accuracy: 0.4627 - val_loss: 1.4257 - val_accuracy: 0.4309\n",
            "Epoch 10/35\n",
            "18/18 [==============================] - 0s 25ms/step - loss: 1.3778 - accuracy: 0.4682 - val_loss: 1.3781 - val_accuracy: 0.4472\n",
            "Epoch 11/35\n",
            "18/18 [==============================] - 0s 21ms/step - loss: 1.3510 - accuracy: 0.4764 - val_loss: 1.3482 - val_accuracy: 0.4634\n",
            "Epoch 12/35\n",
            "18/18 [==============================] - 0s 21ms/step - loss: 1.2752 - accuracy: 0.5355 - val_loss: 1.3186 - val_accuracy: 0.4715\n",
            "Epoch 13/35\n",
            "18/18 [==============================] - 0s 22ms/step - loss: 1.2361 - accuracy: 0.5591 - val_loss: 1.3058 - val_accuracy: 0.5041\n",
            "Epoch 14/35\n",
            "18/18 [==============================] - 0s 21ms/step - loss: 1.1906 - accuracy: 0.5636 - val_loss: 1.3018 - val_accuracy: 0.4715\n",
            "Epoch 15/35\n",
            "18/18 [==============================] - 0s 21ms/step - loss: 1.1268 - accuracy: 0.5873 - val_loss: 1.3024 - val_accuracy: 0.5041\n",
            "Epoch 16/35\n",
            "18/18 [==============================] - 0s 21ms/step - loss: 1.1310 - accuracy: 0.5764 - val_loss: 1.3222 - val_accuracy: 0.4797\n",
            "Epoch 17/35\n",
            "18/18 [==============================] - 0s 21ms/step - loss: 1.0609 - accuracy: 0.6191 - val_loss: 1.3107 - val_accuracy: 0.4959\n",
            "Epoch 1/35\n",
            "18/18 [==============================] - 6s 70ms/step - loss: 2.0203 - accuracy: 0.1918 - val_loss: 1.8776 - val_accuracy: 0.2846\n",
            "Epoch 2/35\n",
            "18/18 [==============================] - 0s 26ms/step - loss: 1.8314 - accuracy: 0.2955 - val_loss: 1.6275 - val_accuracy: 0.3171\n",
            "Epoch 3/35\n",
            "18/18 [==============================] - 1s 30ms/step - loss: 1.6778 - accuracy: 0.3609 - val_loss: 1.5311 - val_accuracy: 0.4065\n",
            "Epoch 4/35\n",
            "18/18 [==============================] - 1s 35ms/step - loss: 1.5125 - accuracy: 0.4236 - val_loss: 1.4595 - val_accuracy: 0.3659\n",
            "Epoch 5/35\n",
            "18/18 [==============================] - 1s 63ms/step - loss: 1.4082 - accuracy: 0.4500 - val_loss: 1.3527 - val_accuracy: 0.4472\n",
            "Epoch 6/35\n",
            "18/18 [==============================] - 1s 78ms/step - loss: 1.3560 - accuracy: 0.4873 - val_loss: 1.3407 - val_accuracy: 0.4634\n",
            "Epoch 7/35\n",
            "18/18 [==============================] - 1s 71ms/step - loss: 1.2616 - accuracy: 0.5173 - val_loss: 1.3455 - val_accuracy: 0.4390\n",
            "Epoch 8/35\n",
            "18/18 [==============================] - 1s 69ms/step - loss: 1.2241 - accuracy: 0.5436 - val_loss: 1.4408 - val_accuracy: 0.4472\n",
            "Epoch 9/35\n",
            "18/18 [==============================] - 1s 49ms/step - loss: 1.1868 - accuracy: 0.5682 - val_loss: 1.4360 - val_accuracy: 0.4065\n",
            "9/9 [==============================] - 1s 9ms/step\n",
            "9/9 [==============================] - 1s 8ms/step\n",
            "9/9 [==============================] - 1s 10ms/step\n",
            "Ensemble Accuracy: 0.459\n"
          ]
        }
      ],
      "source": [
        "early_stop = EarlyStopping(monitor='val_loss', patience=3)\n",
        "\n",
        "history1 = model1.fit(X_train, Y_train, epochs=35, batch_size=64, validation_split=0.1, callbacks=[early_stop])\n",
        "history2 = model2.fit(X_train, Y_train, epochs=35, batch_size=64, validation_split=0.1, callbacks=[early_stop])\n",
        "history3 = model3.fit(X_train, Y_train, epochs=35, batch_size=64, validation_split=0.1, callbacks=[early_stop])\n",
        "\n",
        "# Make predictions with each model\n",
        "predictions1 = model1.predict(X_test)\n",
        "predictions2 = model2.predict(X_test)\n",
        "predictions3 = model3.predict(X_test)\n",
        "\n",
        "# Average the predictions\n",
        "predictions_avg = (predictions1 + predictions2 + predictions3) / 3\n",
        "\n",
        "# Convert averaged predictions to class labels\n",
        "predictions_label = np.argmax(predictions_avg, axis=1)\n",
        "\n",
        "# Calculate accuracy\n",
        "accuracy = np.mean(predictions_label == np.argmax(Y_test, axis=1))\n",
        "\n",
        "print('Ensemble Accuracy: {:0.3f}'.format(accuracy))\n",
        "##Reference\n",
        "## The code used in this is available in this website:https://machinelearningmastery.com/stacking-ensemble-for-deep-learning-neural-networks/"
      ]
    },
    {
      "cell_type": "code",
      "execution_count": null,
      "metadata": {
        "colab": {
          "base_uri": "https://localhost:8080/"
        },
        "id": "SPef0wWAxV3V",
        "outputId": "287f60f3-8aca-41ab-b95b-a36e21160900"
      },
      "outputs": [
        {
          "output_type": "stream",
          "name": "stdout",
          "text": [
            "                           precision    recall  f1-score   support\n",
            "\n",
            " appeal_to_fear_prejudice       0.48      0.56      0.52        43\n",
            "causal_oversimplification       0.42      0.55      0.48        31\n",
            "                    doubt       0.40      0.21      0.28        38\n",
            "exaggeration,minimisation       0.31      0.32      0.32        28\n",
            "              flag_waving       0.81      0.64      0.71        39\n",
            "          loaded_language       0.57      0.35      0.43        37\n",
            "    name_calling,labeling       0.44      0.48      0.46        31\n",
            "               repetition       0.33      0.53      0.40        32\n",
            "\n",
            "                 accuracy                           0.46       279\n",
            "                macro avg       0.47      0.46      0.45       279\n",
            "             weighted avg       0.48      0.46      0.46       279\n",
            "\n"
          ]
        }
      ],
      "source": [
        "import numpy as np\n",
        "from sklearn.metrics import classification_report\n",
        "\n",
        "# Average the predictions\n",
        "predictions_avg = (predictions1 + predictions2 + predictions3) / 3\n",
        "\n",
        "# Convert averaged predictions to class labels\n",
        "predictions_label = np.argmax(predictions_avg, axis=1)\n",
        "\n",
        "# Get the class labels from your original data\n",
        "unique_labels = sorted(dftcopy['label'].unique())  # Replace 'label' with the actual column name containing class labels\n",
        "\n",
        "# Sort the unique class labels (if not already sorted)\n",
        "class_names = sorted(unique_labels)\n",
        "\n",
        "# Convert the one-hot encoded test labels back to class labels\n",
        "Y_test_label = np.argmax(Y_test, axis=1)\n",
        "\n",
        "# Print the classification report\n",
        "print(classification_report(Y_test_label, predictions_label, target_names=class_names))\n"
      ]
    },
    {
      "cell_type": "code",
      "execution_count": null,
      "metadata": {
        "colab": {
          "base_uri": "https://localhost:8080/"
        },
        "id": "g3eNmFEa09Be",
        "outputId": "6ea87f29-53c7-41a4-a1e3-3ca57dbb5f8c"
      },
      "outputs": [
        {
          "output_type": "stream",
          "name": "stdout",
          "text": [
            "['appeal_to_fear_prejudice', 'causal_oversimplification', 'doubt', 'exaggeration,minimisation', 'flag_waving', 'loaded_language', 'name_calling,labeling', 'repetition']\n"
          ]
        }
      ],
      "source": [
        "# Step 1: Get the column names from the one-hot encoded DataFrame\n",
        "one_hot_encoded_df = pd.get_dummies(dftcopy['label'])\n",
        "column_names = one_hot_encoded_df.columns\n",
        "\n",
        "# Step 2: Extract the class names from the column names\n",
        "class_names = list(column_names)\n",
        "\n",
        "# Print the class names to check the order\n",
        "print(class_names)\n"
      ]
    },
    {
      "cell_type": "code",
      "execution_count": null,
      "metadata": {
        "colab": {
          "base_uri": "https://localhost:8080/"
        },
        "id": "LKFtxACsrgpz",
        "outputId": "557abc42-f079-4d99-fe78-ddb5d1f78f7d"
      },
      "outputs": [
        {
          "output_type": "stream",
          "name": "stdout",
          "text": [
            "Requirement already satisfied: scikeras in /usr/local/lib/python3.10/dist-packages (0.11.0)\n",
            "Requirement already satisfied: packaging>=0.21 in /usr/local/lib/python3.10/dist-packages (from scikeras) (23.1)\n",
            "Requirement already satisfied: scikit-learn>=1.0.0 in /usr/local/lib/python3.10/dist-packages (from scikeras) (1.2.2)\n",
            "Requirement already satisfied: numpy>=1.17.3 in /usr/local/lib/python3.10/dist-packages (from scikit-learn>=1.0.0->scikeras) (1.22.4)\n",
            "Requirement already satisfied: scipy>=1.3.2 in /usr/local/lib/python3.10/dist-packages (from scikit-learn>=1.0.0->scikeras) (1.10.1)\n",
            "Requirement already satisfied: joblib>=1.1.1 in /usr/local/lib/python3.10/dist-packages (from scikit-learn>=1.0.0->scikeras) (1.3.1)\n",
            "Requirement already satisfied: threadpoolctl>=2.0.0 in /usr/local/lib/python3.10/dist-packages (from scikit-learn>=1.0.0->scikeras) (3.2.0)\n"
          ]
        }
      ],
      "source": [
        "!pip install scikeras\n"
      ]
    },
    {
      "cell_type": "code",
      "execution_count": null,
      "metadata": {
        "colab": {
          "base_uri": "https://localhost:8080/",
          "height": 1000
        },
        "id": "ujQQBE3UzwpH",
        "outputId": "cc0c87bd-72ea-42f4-9ab4-37894f8bc084"
      },
      "outputs": [
        {
          "output_type": "display_data",
          "data": {
            "text/plain": [
              "<Figure size 640x480 with 1 Axes>"
            ],
            "image/png": "[encoded data removed]"
          },
          "metadata": {}
        },
        {
          "output_type": "display_data",
          "data": {
            "text/plain": [
              "<Figure size 640x480 with 1 Axes>"
            ],
            "image/png": "[encoded data removed]"
          },
          "metadata": {}
        },
        {
          "output_type": "display_data",
          "data": {
            "text/plain": [
              "<Figure size 640x480 with 1 Axes>"
            ],
            "image/png": "[encoded data removed]"
          },
          "metadata": {}
        },
        {
          "output_type": "display_data",
          "data": {
            "text/plain": [
              "<Figure size 640x480 with 1 Axes>"
            ],
            "image/png": "[encoded data removed]"
          },
          "metadata": {}
        },
        {
          "output_type": "display_data",
          "data": {
            "text/plain": [
              "<Figure size 640x480 with 1 Axes>"
            ],
            "image/png": "[encoded data removed]"
          },
          "metadata": {}
        },
        {
          "output_type": "display_data",
          "data": {
            "text/plain": [
              "<Figure size 640x480 with 1 Axes>"
            ],
            "image/png": "[encoded data removed]"
          },
          "metadata": {}
        }
      ],
      "source": [
        "import matplotlib.pyplot as plt\n",
        "\n",
        "# Define a function to plot accuracy and loss\n",
        "def plot_graphs(history, string, model_num):\n",
        "    plt.plot(history.history[string])\n",
        "    plt.plot(history.history['val_'+string])\n",
        "    plt.xlabel(\"Epochs\")\n",
        "    plt.ylabel(string)\n",
        "    plt.legend([string, 'val_'+string])\n",
        "    plt.title(f'Model {model_num} {string}')\n",
        "    plt.show()\n",
        "\n",
        "# Plot training & validation accuracy values for Model 1\n",
        "plot_graphs(history1, 'accuracy', 1)\n",
        "\n",
        "# Plot training & validation accuracy values for Model 2\n",
        "plot_graphs(history2, 'accuracy', 2)\n",
        "\n",
        "# Plot training & validation accuracy values for Model 3\n",
        "plot_graphs(history3, 'accuracy', 3)\n",
        "\n",
        "# Plot training & validation loss values for Model 1\n",
        "plot_graphs(history1, 'loss', 1)\n",
        "\n",
        "# Plot training & validation loss values for Model 2\n",
        "plot_graphs(history2, 'loss', 2)\n",
        "\n",
        "# Plot training & validation loss values for Model 3\n",
        "plot_graphs(history3, 'loss', 3)\n"
      ]
    },
    {
      "cell_type": "markdown",
      "metadata": {
        "id": "8XbusHh3eav2"
      },
      "source": [
        "##Approach 2: BERT"
      ]
    },
    {
      "cell_type": "code",
      "execution_count": null,
      "metadata": {
        "colab": {
          "base_uri": "https://localhost:8080/"
        },
        "id": "ujRyRfI7tCMj",
        "outputId": "d02d4525-81ea-4687-b779-d79e831ff994"
      },
      "outputs": [
        {
          "output_type": "stream",
          "name": "stdout",
          "text": [
            "Requirement already satisfied: transformers in /usr/local/lib/python3.10/dist-packages (4.31.0)\n",
            "Requirement already satisfied: filelock in /usr/local/lib/python3.10/dist-packages (from transformers) (3.12.2)\n",
            "Requirement already satisfied: huggingface-hub<1.0,>=0.14.1 in /usr/local/lib/python3.10/dist-packages (from transformers) (0.16.4)\n",
            "Requirement already satisfied: numpy>=1.17 in /usr/local/lib/python3.10/dist-packages (from transformers) (1.22.4)\n",
            "Requirement already satisfied: packaging>=20.0 in /usr/local/lib/python3.10/dist-packages (from transformers) (23.1)\n",
            "Requirement already satisfied: pyyaml>=5.1 in /usr/local/lib/python3.10/dist-packages (from transformers) (6.0.1)\n",
            "Requirement already satisfied: regex!=2019.12.17 in /usr/local/lib/python3.10/dist-packages (from transformers) (2022.10.31)\n",
            "Requirement already satisfied: requests in /usr/local/lib/python3.10/dist-packages (from transformers) (2.27.1)\n",
            "Requirement already satisfied: tokenizers!=0.11.3,<0.14,>=0.11.1 in /usr/local/lib/python3.10/dist-packages (from transformers) (0.13.3)\n",
            "Requirement already satisfied: safetensors>=0.3.1 in /usr/local/lib/python3.10/dist-packages (from transformers) (0.3.1)\n",
            "Requirement already satisfied: tqdm>=4.27 in /usr/local/lib/python3.10/dist-packages (from transformers) (4.65.0)\n",
            "Requirement already satisfied: fsspec in /usr/local/lib/python3.10/dist-packages (from huggingface-hub<1.0,>=0.14.1->transformers) (2023.6.0)\n",
            "Requirement already satisfied: typing-extensions>=3.7.4.3 in /usr/local/lib/python3.10/dist-packages (from huggingface-hub<1.0,>=0.14.1->transformers) (4.7.1)\n",
            "Requirement already satisfied: urllib3<1.27,>=1.21.1 in /usr/local/lib/python3.10/dist-packages (from requests->transformers) (1.26.16)\n",
            "Requirement already satisfied: certifi>=2017.4.17 in /usr/local/lib/python3.10/dist-packages (from requests->transformers) (2023.7.22)\n",
            "Requirement already satisfied: charset-normalizer~=2.0.0 in /usr/local/lib/python3.10/dist-packages (from requests->transformers) (2.0.12)\n",
            "Requirement already satisfied: idna<4,>=2.5 in /usr/local/lib/python3.10/dist-packages (from requests->transformers) (3.4)\n"
          ]
        }
      ],
      "source": [
        "!pip install transformers\n"
      ]
    },
    {
      "cell_type": "code",
      "execution_count": null,
      "metadata": {
        "id": "7uBpNP4IOglP"
      },
      "outputs": [],
      "source": [
        "import transformers\n",
        "from transformers import AutoTokenizer, TFBertModel\n",
        "from tensorflow.keras.utils import to_categorical\n",
        "import tensorflow as tf\n",
        "from tensorflow.keras.optimizers import Adam\n",
        "from tensorflow.keras.callbacks import EarlyStopping\n",
        "from tensorflow.keras.initializers import TruncatedNormal\n",
        "from tensorflow.keras.losses import CategoricalCrossentropy\n",
        "from tensorflow.keras.metrics import CategoricalAccuracy\n",
        "from tensorflow.keras.utils import to_categorical\n",
        "from tensorflow.keras.layers import Input, Dense\n",
        "from tensorflow.keras.optimizers.schedules import ExponentialDecay\n",
        "import warnings\n",
        "from sklearn.metrics import classification_report"
      ]
    },
    {
      "cell_type": "code",
      "execution_count": null,
      "metadata": {
        "colab": {
          "base_uri": "https://localhost:8080/"
        },
        "id": "U67JtddeM9yA",
        "outputId": "bb925be3-d4e0-4c76-816c-60a0623c32e6"
      },
      "outputs": [
        {
          "output_type": "stream",
          "name": "stdout",
          "text": [
            "<class 'pandas.core.frame.DataFrame'>\n",
            "Int64Index: 1223 entries, 2 to 2413\n",
            "Data columns (total 2 columns):\n",
            " #   Column             Non-Null Count  Dtype \n",
            "---  ------             --------------  ----- \n",
            " 0   label              1223 non-null   object\n",
            " 1   tagged_in_context  1223 non-null   object\n",
            "dtypes: object(2)\n",
            "memory usage: 28.7+ KB\n"
          ]
        }
      ],
      "source": [
        "dft.info()"
      ]
    },
    {
      "cell_type": "code",
      "execution_count": null,
      "metadata": {
        "colab": {
          "base_uri": "https://localhost:8080/"
        },
        "id": "rFuq2cfndt_9",
        "outputId": "c71fb766-c88a-4475-8f65-a0332f687432"
      },
      "outputs": [
        {
          "output_type": "stream",
          "name": "stdout",
          "text": [
            "<class 'pandas.core.frame.DataFrame'>\n",
            "Int64Index: 279 entries, 1 to 579\n",
            "Data columns (total 2 columns):\n",
            " #   Column             Non-Null Count  Dtype \n",
            "---  ------             --------------  ----- \n",
            " 0   label              279 non-null    object\n",
            " 1   tagged_in_context  279 non-null    object\n",
            "dtypes: object(2)\n",
            "memory usage: 6.5+ KB\n"
          ]
        }
      ],
      "source": [
        "dft2.info()"
      ]
    },
    {
      "cell_type": "code",
      "execution_count": null,
      "metadata": {
        "colab": {
          "base_uri": "https://localhost:8080/"
        },
        "id": "nm8G01rrNZXE",
        "outputId": "c6f90580-0ca8-4522-adfd-63bec90f10de"
      },
      "outputs": [
        {
          "output_type": "execute_result",
          "data": {
            "text/plain": [
              "exaggeration,minimisation    164\n",
              "causal_oversimplification    158\n",
              "name_calling,labeling        157\n",
              "loaded_language              154\n",
              "appeal_to_fear_prejudice     151\n",
              "flag_waving                  148\n",
              "repetition                   147\n",
              "doubt                        144\n",
              "Name: label, dtype: int64"
            ]
          },
          "metadata": {},
          "execution_count": 53
        }
      ],
      "source": [
        "dft['label'].value_counts()"
      ]
    },
    {
      "cell_type": "code",
      "execution_count": null,
      "metadata": {
        "colab": {
          "base_uri": "https://localhost:8080/"
        },
        "id": "UvfwxCarRDKL",
        "outputId": "394b2352-e941-4f88-eeee-43156a950935"
      },
      "outputs": [
        {
          "output_type": "stream",
          "name": "stdout",
          "text": [
            "['flag_waving' 'loaded_language' 'doubt' 'name_calling,labeling'\n",
            " 'appeal_to_fear_prejudice' 'repetition' 'causal_oversimplification'\n",
            " 'exaggeration,minimisation']\n"
          ]
        }
      ],
      "source": [
        "unique_labels = dft['label'].unique()\n",
        "print(unique_labels)\n"
      ]
    },
    {
      "cell_type": "code",
      "execution_count": null,
      "metadata": {
        "colab": {
          "base_uri": "https://localhost:8080/"
        },
        "id": "1KwiPynjREi5",
        "outputId": "887cd89f-85a3-4df6-8e01-7cc314cc3ffc"
      },
      "outputs": [
        {
          "output_type": "stream",
          "name": "stdout",
          "text": [
            "['causal_oversimplification' 'appeal_to_fear_prejudice' 'repetition'\n",
            " 'name_calling,labeling' 'loaded_language' 'flag_waving' 'doubt'\n",
            " 'exaggeration,minimisation']\n"
          ]
        }
      ],
      "source": [
        "unique_labels = dft2['label'].unique()\n",
        "print(unique_labels)\n"
      ]
    },
    {
      "cell_type": "code",
      "execution_count": null,
      "metadata": {
        "id": "736Mr1ABF-rX"
      },
      "outputs": [],
      "source": [
        "encoded_dict = {'exaggeration,minimisation': 0, 'causal_oversimplification': 1, 'name_calling,labeling': 2,\n",
        "                'loaded_language': 3, 'appeal_to_fear_prejudice': 4, 'flag_waving': 5, 'repetition': 6, 'doubt': 7}\n",
        "\n",
        "dft['label'] = dft.label.map(encoded_dict)\n",
        "dft2['label'] = dft2.label.map(encoded_dict)\n",
        "\n",
        "# Convert to one-hot encoding\n",
        "y_train = to_categorical(dft.label)\n",
        "y_test = to_categorical(dft2.label)\n"
      ]
    },
    {
      "cell_type": "code",
      "execution_count": null,
      "metadata": {
        "colab": {
          "base_uri": "https://localhost:8080/"
        },
        "id": "z5pP5XjbOqRt",
        "outputId": "4ff110cd-de3f-40fd-b25e-3329f390541c"
      },
      "outputs": [
        {
          "output_type": "stream",
          "name": "stderr",
          "text": [
            "Some weights of the PyTorch model were not used when initializing the TF 2.0 model TFBertModel: ['cls.predictions.bias', 'cls.predictions.transform.dense.bias', 'cls.seq_relationship.bias', 'cls.predictions.transform.dense.weight', 'cls.seq_relationship.weight', 'cls.predictions.transform.LayerNorm.bias', 'cls.predictions.transform.LayerNorm.weight']\n",
            "- This IS expected if you are initializing TFBertModel from a PyTorch model trained on another task or with another architecture (e.g. initializing a TFBertForSequenceClassification model from a BertForPreTraining model).\n",
            "- This IS NOT expected if you are initializing TFBertModel from a PyTorch model that you expect to be exactly identical (e.g. initializing a TFBertForSequenceClassification model from a BertForSequenceClassification model).\n",
            "All the weights of TFBertModel were initialized from the PyTorch model.\n",
            "If your task is similar to the task the model of the checkpoint was trained on, you can already use TFBertModel for predictions without further training.\n"
          ]
        }
      ],
      "source": [
        "tokenizer = AutoTokenizer.from_pretrained('bert-base-cased')\n",
        "bert = TFBertModel.from_pretrained('bert-base-cased')\n"
      ]
    },
    {
      "cell_type": "code",
      "execution_count": null,
      "metadata": {
        "id": "3N7Oq3U4Gr7K"
      },
      "outputs": [],
      "source": [
        "x_train = tokenizer(\n",
        "    text=dft.tagged_in_context.tolist(),\n",
        "    add_special_tokens=True,\n",
        "    max_length=70,\n",
        "    truncation=True,\n",
        "    padding=True,\n",
        "    return_tensors='tf',\n",
        "    return_token_type_ids = False,\n",
        "    return_attention_mask = True,\n",
        "    verbose = True)\n",
        "\n",
        "x_test = tokenizer(\n",
        "    text=dft2.tagged_in_context.tolist(),\n",
        "    add_special_tokens=True,\n",
        "    max_length=70,\n",
        "    truncation=True,\n",
        "    padding=True,\n",
        "    return_tensors='tf',\n",
        "    return_token_type_ids = False,\n",
        "    return_attention_mask = True,\n",
        "    verbose = True)\n"
      ]
    },
    {
      "cell_type": "code",
      "execution_count": null,
      "metadata": {
        "colab": {
          "base_uri": "https://localhost:8080/"
        },
        "id": "bK3Os7WSRLEu",
        "outputId": "e59ae39b-a2fb-4966-d07f-7568b14a0de4"
      },
      "outputs": [
        {
          "output_type": "stream",
          "name": "stdout",
          "text": [
            "Model: \"model\"\n",
            "__________________________________________________________________________________________________\n",
            " Layer (type)                   Output Shape         Param #     Connected to                     \n",
            "==================================================================================================\n",
            " input_ids (InputLayer)         [(None, 70)]         0           []                               \n",
            "                                                                                                  \n",
            " attention_mask (InputLayer)    [(None, 70)]         0           []                               \n",
            "                                                                                                  \n",
            " tf_bert_model (TFBertModel)    TFBaseModelOutputWi  108310272   ['input_ids[0][0]',              \n",
            "                                thPoolingAndCrossAt               'attention_mask[0][0]']         \n",
            "                                tentions(last_hidde                                               \n",
            "                                n_state=(None, 70,                                                \n",
            "                                768),                                                             \n",
            "                                 pooler_output=(Non                                               \n",
            "                                e, 768),                                                          \n",
            "                                 past_key_values=No                                               \n",
            "                                ne, hidden_states=N                                               \n",
            "                                one, attentions=Non                                               \n",
            "                                e, cross_attentions                                               \n",
            "                                =None)                                                            \n",
            "                                                                                                  \n",
            " global_max_pooling1d (GlobalMa  (None, 768)         0           ['tf_bert_model[0][0]']          \n",
            " xPooling1D)                                                                                      \n",
            "                                                                                                  \n",
            " dense_6 (Dense)                (None, 128)          98432       ['global_max_pooling1d[0][0]']   \n",
            "                                                                                                  \n",
            " dropout_40 (Dropout)           (None, 128)          0           ['dense_6[0][0]']                \n",
            "                                                                                                  \n",
            " dense_7 (Dense)                (None, 32)           4128        ['dropout_40[0][0]']             \n",
            "                                                                                                  \n",
            " dense_8 (Dense)                (None, 8)            264         ['dense_7[0][0]']                \n",
            "                                                                                                  \n",
            "==================================================================================================\n",
            "Total params: 108,413,096\n",
            "Trainable params: 108,413,096\n",
            "Non-trainable params: 0\n",
            "__________________________________________________________________________________________________\n"
          ]
        }
      ],
      "source": [
        "# Define the model\n",
        "max_len = 70\n",
        "input_ids = Input(shape=(max_len,), dtype=tf.int32, name=\"input_ids\")\n",
        "input_mask = Input(shape=(max_len,), dtype=tf.int32, name=\"attention_mask\")\n",
        "embeddings = bert(input_ids, attention_mask = input_mask)[0]\n",
        "out = tf.keras.layers.GlobalMaxPool1D()(embeddings)\n",
        "out = Dense(128, activation='relu')(out)\n",
        "out = tf.keras.layers.Dropout(0.1)(out)\n",
        "out = Dense(32,activation = 'relu')(out)\n",
        "y = Dense(8,activation = 'sigmoid')(out)\n",
        "\n",
        "model = tf.keras.Model(inputs=[input_ids, input_mask], outputs=y)\n",
        "model.layers[2].trainable = True\n",
        "\n",
        "# Use learning rate schedule\n",
        "initial_learning_rate = 5e-5\n",
        "lr_schedule = ExponentialDecay(initial_learning_rate, decay_steps=100000, decay_rate=0.96, staircase=True)\n",
        "\n",
        "# Use early stopping\n",
        "early_stopping = EarlyStopping(monitor='val_loss', patience=2)\n",
        "\n",
        "# Compile the model\n",
        "optimizer = Adam(learning_rate=lr_schedule)\n",
        "loss = CategoricalCrossentropy(from_logits = True)\n",
        "metric = CategoricalAccuracy('accuracy')\n",
        "model.compile(optimizer = optimizer, loss = loss, metrics = metric)\n",
        "model.summary()\n"
      ]
    },
    {
      "cell_type": "code",
      "execution_count": null,
      "metadata": {
        "colab": {
          "base_uri": "https://localhost:8080/"
        },
        "id": "11yq_SY7RLbT",
        "outputId": "59b4d6c5-9269-483a-d77b-f0b37e4e66dc"
      },
      "outputs": [
        {
          "output_type": "stream",
          "name": "stdout",
          "text": [
            "Epoch 1/15\n",
            "34/34 [==============================] - 117s 488ms/step - loss: 1.8607 - accuracy: 0.2625 - val_loss: 1.6381 - val_accuracy: 0.3297\n",
            "Epoch 2/15\n",
            "34/34 [==============================] - 12s 367ms/step - loss: 1.4035 - accuracy: 0.4644 - val_loss: 1.3340 - val_accuracy: 0.4982\n",
            "Epoch 3/15\n",
            "34/34 [==============================] - 12s 364ms/step - loss: 1.0170 - accuracy: 0.6533 - val_loss: 1.3176 - val_accuracy: 0.5412\n",
            "Epoch 4/15\n",
            "34/34 [==============================] - 10s 287ms/step - loss: 0.5977 - accuracy: 0.8021 - val_loss: 1.3567 - val_accuracy: 0.5771\n",
            "Epoch 5/15\n",
            "34/34 [==============================] - 11s 331ms/step - loss: 0.3216 - accuracy: 0.9076 - val_loss: 1.5801 - val_accuracy: 0.5735\n"
          ]
        }
      ],
      "source": [
        "# Train the model\n",
        "warnings.filterwarnings('ignore')\n",
        "tf.get_logger().setLevel('ERROR')\n",
        "train_history = model.fit(\n",
        "    x ={'input_ids':x_train['input_ids'],'attention_mask':x_train['attention_mask']} ,\n",
        "    y = y_train,\n",
        "    validation_data = (\n",
        "    {'input_ids':x_test['input_ids'],'attention_mask':x_test['attention_mask']}, y_test\n",
        "    ),\n",
        "    epochs=15,\n",
        "    batch_size=36,\n",
        "    callbacks=[early_stopping]\n",
        ")\n",
        "##Reference\n",
        "##The code used in this available in this website https://www.analyticsvidhya.com/blog/2021/12/multiclass-classification-using-transformers/"
      ]
    },
    {
      "cell_type": "code",
      "execution_count": null,
      "metadata": {
        "colab": {
          "base_uri": "https://localhost:8080/"
        },
        "id": "W12G4Fg3SkkC",
        "outputId": "14aa432e-0e5d-4c35-e4fc-22c64bcdc95b"
      },
      "outputs": [
        {
          "output_type": "stream",
          "name": "stdout",
          "text": [
            "9/9 [==============================] - 4s 72ms/step\n"
          ]
        }
      ],
      "source": [
        "predicted_raw = model.predict({'input_ids':x_test['input_ids'],'attention_mask':x_test['attention_mask']})\n",
        "import numpy as np\n",
        "y_predicted = np.argmax(predicted_raw, axis = 1)\n",
        "y_true = dft2.label\n"
      ]
    },
    {
      "cell_type": "code",
      "execution_count": null,
      "metadata": {
        "colab": {
          "base_uri": "https://localhost:8080/"
        },
        "id": "thwnREFc2trb",
        "outputId": "b70f3992-9dd9-4993-f2e5-6e16dac8c430"
      },
      "outputs": [
        {
          "output_type": "stream",
          "name": "stdout",
          "text": [
            "Classification Report:\n",
            "                           precision    recall  f1-score   support\n",
            "\n",
            "exaggeration,minimisation       0.70      0.44      0.54        43\n",
            "causal_oversimplification       0.41      0.77      0.54        31\n",
            "    name_calling,labeling       0.71      0.32      0.44        38\n",
            "          loaded_language       0.58      0.50      0.54        28\n",
            " appeal_to_fear_prejudice       0.68      0.87      0.76        39\n",
            "              flag_waving       0.66      0.62      0.64        37\n",
            "               repetition       0.88      0.48      0.62        31\n",
            "                    doubt       0.37      0.59      0.46        32\n",
            "\n",
            "                 accuracy                           0.57       279\n",
            "                macro avg       0.62      0.58      0.57       279\n",
            "             weighted avg       0.63      0.57      0.57       279\n",
            "\n"
          ]
        }
      ],
      "source": [
        "# Define the reverse dictionary to map encoded numbers back to class names\n",
        "reverse_encoded_dict = {v: k for k, v in encoded_dict.items()}\n",
        "\n",
        "# Convert the predicted and true labels from encoded numbers to class names\n",
        "y_pred_class_names = [reverse_encoded_dict[label] for label in y_predicted]\n",
        "y_true_class_names = [reverse_encoded_dict[label] for label in y_true]\n",
        "\n",
        "# Generate and print the classification report with class names\n",
        "report = classification_report(y_true_class_names, y_pred_class_names, target_names=list(encoded_dict.keys()))\n",
        "\n",
        "print(\"Classification Report:\")\n",
        "print(report)"
      ]
    },
    {
      "cell_type": "code",
      "execution_count": null,
      "metadata": {
        "colab": {
          "base_uri": "https://localhost:8080/"
        },
        "id": "X7CVHAF-ck-x",
        "outputId": "ad3ba485-86a1-49eb-bf64-41df16c82095"
      },
      "outputs": [
        {
          "output_type": "stream",
          "name": "stdout",
          "text": [
            "9/9 [==============================] - 1s 72ms/step - loss: 1.5801 - accuracy: 0.5735\n",
            "Test Loss: 1.5800869464874268\n",
            "Test Accuracy: 0.5734767317771912\n"
          ]
        }
      ],
      "source": [
        "test_loss, test_accuracy = model.evaluate(\n",
        "    {'input_ids': x_test['input_ids'], 'attention_mask': x_test['attention_mask']},\n",
        "    y_test  # Assuming y_test contains the target labels for your test data\n",
        ")\n",
        "\n",
        "print(f'Test Loss: {test_loss}')\n",
        "print(f'Test Accuracy: {test_accuracy}')\n"
      ]
    },
    {
      "cell_type": "code",
      "execution_count": null,
      "metadata": {
        "colab": {
          "base_uri": "https://localhost:8080/",
          "height": 927
        },
        "id": "keFoChCu0x2N",
        "outputId": "6b76cc5e-243d-46cb-b932-f400ec471d1e"
      },
      "outputs": [
        {
          "output_type": "display_data",
          "data": {
            "text/plain": [
              "<Figure size 640x480 with 1 Axes>"
            ],
            "image/png": "[encoded data removed]"
          },
          "metadata": {}
        },
        {
          "output_type": "display_data",
          "data": {
            "text/plain": [
              "<Figure size 640x480 with 1 Axes>"
            ],
            "image/png": "[encoded data removed]"
          },
          "metadata": {}
        }
      ],
      "source": [
        "# Assuming you have the training history from the 'train_history' variable\n",
        "train_accuracy = train_history.history['accuracy']\n",
        "val_accuracy = train_history.history['val_accuracy']\n",
        "train_loss = train_history.history['loss']\n",
        "val_loss = train_history.history['val_loss']\n",
        "\n",
        "# Plotting the accuracy curves\n",
        "plt.plot(train_accuracy, label='Training Accuracy')\n",
        "plt.plot(val_accuracy, label='Validation Accuracy')\n",
        "plt.xlabel('Epoch')\n",
        "plt.ylabel('Accuracy')\n",
        "plt.legend()\n",
        "plt.title('Training and Validation Accuracy')\n",
        "plt.show()\n",
        "\n",
        "# Plotting the loss curves\n",
        "plt.plot(train_loss, label='Training Loss')\n",
        "plt.plot(val_loss, label='Validation Loss')\n",
        "plt.xlabel('Epoch')\n",
        "plt.ylabel('Loss')\n",
        "plt.legend()\n",
        "plt.title('Training and Validation Loss')\n",
        "plt.show()\n"
      ]
    }
  ],
  "metadata": {
    "accelerator": "GPU",
    "colab": {
      "provenance": [],
      "gpuType": "A100"
    },
    "kernelspec": {
      "display_name": "Python 3",
      "name": "python3"
    },
    "language_info": {
      "name": "python"
    }
  },
  "nbformat": 4,
  "nbformat_minor": 0
}